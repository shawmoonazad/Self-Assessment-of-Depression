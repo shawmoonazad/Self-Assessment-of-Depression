{
  "nbformat": 4,
  "nbformat_minor": 0,
  "metadata": {
    "colab": {
      "provenance": [],
      "gpuType": "T4"
    },
    "kernelspec": {
      "name": "python3",
      "display_name": "Python 3"
    },
    "language_info": {
      "name": "python"
    },
    "accelerator": "GPU"
  },
  "cells": [
    {
      "cell_type": "code",
      "execution_count": null,
      "metadata": {
        "id": "JllQwORO3Ux6"
      },
      "outputs": [],
      "source": []
    },
    {
      "cell_type": "markdown",
      "metadata": {
        "id": "2ozuSnlA3nIz"
      },
      "source": [
        "## Preface\n",
        "The majority of the code in this notebook is taken from <br>\n",
        "1: [BERT with HuggingFace Transformers, kaggle](https://www.kaggle.com/code/tuckerarrants/bert-with-huggingface-transformers) <br>\n",
        "2: [BERT Fine-Tuning Tutorial with PyTorch\n",
        "By Chris McCormick and Nick Ryan, google colab](https://colab.research.google.com/drive/1Y4o3jh3ZH70tl6mCd76vz_IxX23biCPP?usp=sharing)"
      ]
    },
    {
      "cell_type": "markdown",
      "metadata": {
        "id": "3L_gs25R3nI0"
      },
      "source": [
        "# Importing library and checking GPU"
      ]
    },
    {
      "cell_type": "code",
      "execution_count": null,
      "metadata": {
        "execution": {
          "iopub.execute_input": "2024-02-26T00:09:55.589175Z",
          "iopub.status.busy": "2024-02-26T00:09:55.588856Z",
          "iopub.status.idle": "2024-02-26T00:09:55.593475Z",
          "shell.execute_reply": "2024-02-26T00:09:55.592543Z",
          "shell.execute_reply.started": "2024-02-26T00:09:55.589152Z"
        },
        "id": "_XyI70kQ3nI2"
      },
      "outputs": [],
      "source": [
        "import numpy as np\n",
        "import pandas as pd\n",
        "import os, re\n",
        "\n",
        "import matplotlib.pyplot as plt"
      ]
    },
    {
      "cell_type": "code",
      "execution_count": null,
      "metadata": {
        "execution": {
          "iopub.execute_input": "2024-02-26T00:09:57.147399Z",
          "iopub.status.busy": "2024-02-26T00:09:57.147026Z",
          "iopub.status.idle": "2024-02-26T00:10:09.272601Z",
          "shell.execute_reply": "2024-02-26T00:10:09.271663Z",
          "shell.execute_reply.started": "2024-02-26T00:09:57.147364Z"
        },
        "id": "xAKrJJnN3nI5"
      },
      "outputs": [],
      "source": [
        "import tensorflow as tf"
      ]
    },
    {
      "cell_type": "code",
      "execution_count": null,
      "metadata": {
        "id": "loVc3b6W3nI6"
      },
      "outputs": [],
      "source": [
        "#!pip install torch\n",
        "#!pip install transformers"
      ]
    },
    {
      "cell_type": "code",
      "execution_count": null,
      "metadata": {
        "scrolled": true,
        "colab": {
          "base_uri": "https://localhost:8080/"
        },
        "id": "QrgLanUf3nI8",
        "outputId": "f09a5417-021e-4310-c3bd-8bc00f497120"
      },
      "outputs": [
        {
          "output_type": "stream",
          "name": "stdout",
          "text": [
            "2.2.1+cu121\n"
          ]
        }
      ],
      "source": [
        "import torch\n",
        "print(torch.__version__)"
      ]
    },
    {
      "cell_type": "code",
      "execution_count": null,
      "metadata": {
        "colab": {
          "base_uri": "https://localhost:8080/"
        },
        "id": "CMFAE5HV3nI9",
        "outputId": "6629c9ae-0d31-44f7-c0f0-13ed34096879"
      },
      "outputs": [
        {
          "output_type": "stream",
          "name": "stdout",
          "text": [
            "Using device: cuda\n"
          ]
        }
      ],
      "source": [
        "device = torch.device(\"cuda\" if torch.cuda.is_available() else \"cpu\")\n",
        "print(\"Using device:\", device)"
      ]
    },
    {
      "cell_type": "code",
      "source": [
        "if device.type == 'cuda':\n",
        "    print(torch.cuda.get_device_name(0))"
      ],
      "metadata": {
        "colab": {
          "base_uri": "https://localhost:8080/"
        },
        "id": "_h2JC0bx7cVP",
        "outputId": "455a33d8-99c5-471e-9600-05e637c22b3b"
      },
      "execution_count": null,
      "outputs": [
        {
          "output_type": "stream",
          "name": "stdout",
          "text": [
            "Tesla T4\n"
          ]
        }
      ]
    },
    {
      "cell_type": "code",
      "execution_count": null,
      "metadata": {
        "id": "TVWX35yi3nI9"
      },
      "outputs": [],
      "source": [
        "import transformers"
      ]
    },
    {
      "cell_type": "markdown",
      "metadata": {
        "id": "8LkWbAqB3nI-"
      },
      "source": [
        "Installing Hugging face lib, but look like they already interaged in"
      ]
    },
    {
      "cell_type": "code",
      "source": [
        "# from google.colab import drive\n",
        "# drive.mount('/content/drive')"
      ],
      "metadata": {
        "id": "uYU93uT936vM"
      },
      "execution_count": null,
      "outputs": []
    },
    {
      "cell_type": "code",
      "execution_count": null,
      "metadata": {
        "execution": {
          "iopub.execute_input": "2024-02-26T00:10:23.164589Z",
          "iopub.status.busy": "2024-02-26T00:10:23.163646Z",
          "iopub.status.idle": "2024-02-26T00:10:23.266998Z",
          "shell.execute_reply": "2024-02-26T00:10:23.266086Z",
          "shell.execute_reply.started": "2024-02-26T00:10:23.164555Z"
        },
        "scrolled": true,
        "colab": {
          "base_uri": "https://localhost:8080/",
          "height": 745
        },
        "id": "mCVhTTIr3nI_",
        "outputId": "c22a4e3f-2475-424e-bf2a-1e8ec00755f9"
      },
      "outputs": [
        {
          "output_type": "stream",
          "name": "stdout",
          "text": [
            "Number of training sentences: 520\n",
            "\n"
          ]
        },
        {
          "output_type": "execute_result",
          "data": {
            "text/plain": [
              "                                   AcademicDescription  \\\n",
              "344  I am currently in my 1 year with a CGPA of 0.0...   \n",
              "106  I am currently in my 5 year with a CGPA of 3.4...   \n",
              "393  I am currently in my 5 year with a CGPA of 3.0...   \n",
              "57   I am currently in my 2 year with a CGPA of 3.5...   \n",
              "110  I am currently in my 4 year with a CGPA of 3.2...   \n",
              "155  I am currently in my 4 year with a CGPA of 3.2...   \n",
              "9    I am currently in my 5 year with a CGPA of 3.0...   \n",
              "73   I am currently in my 4 year with a CGPA of 3.5...   \n",
              "453  I am currently in my 4 year with a CGPA of 2.5...   \n",
              "130  I am currently in my 4 year with a CGPA of 3.7...   \n",
              "\n",
              "                                   ViolenceDescription  \\\n",
              "344  I  Strongly disagree that I experienced physic...   \n",
              "106  I  Disagree that I experienced physical violen...   \n",
              "393  I  Strongly disagree that I experienced physic...   \n",
              "57   I  Neutral that I experienced physical violenc...   \n",
              "110  I  Agree that I experienced physical violence,...   \n",
              "155  I  Strongly agree that I experienced physical ...   \n",
              "9    I  Agree that I experienced physical violence,...   \n",
              "73   I  Strongly disagree that I experienced physic...   \n",
              "453  I  Neutral that I experienced physical violenc...   \n",
              "130  I  Neutral that I experienced physical violenc...   \n",
              "\n",
              "                                     SocialDescription  \\\n",
              "344   I Neutral that My understanding with my paren...   \n",
              "106   I Disagree that My understanding with my pare...   \n",
              "393   I Neutral that My understanding with my paren...   \n",
              "57    I Disagree that My understanding with my pare...   \n",
              "110   I Strongly agree that My understanding with m...   \n",
              "155   I Not Applicable that My understanding with m...   \n",
              "9     I Disagree that My understanding with my pare...   \n",
              "73    I Neutral that My understanding with my paren...   \n",
              "453   I Strongly disagree that My understanding wit...   \n",
              "130   I Disagree that My understanding with my pare...   \n",
              "\n",
              "                                        PHQDescription  \\\n",
              "344  I often feel a lack of interest in activities,...   \n",
              "106  I often feel a lack of interest in activities,...   \n",
              "393  I often feel a lack of interest in activities,...   \n",
              "57   I often feel a lack of interest in activities,...   \n",
              "110  I often feel a lack of interest in activities,...   \n",
              "155  I often feel a lack of interest in activities,...   \n",
              "9    I often feel a lack of interest in activities,...   \n",
              "73   I often feel a lack of interest in activities,...   \n",
              "453  I often feel a lack of interest in activities,...   \n",
              "130  I often feel a lack of interest in activities,...   \n",
              "\n",
              "                                    GeneralDescription  \\\n",
              "344  I am 21 years old, studying in my 1 year with ...   \n",
              "106  I am 24 years old, studying in my 5 year with ...   \n",
              "393  I am 25 years old, studying in my 5 year with ...   \n",
              "57   I am 21 years old, studying in my 2 year with ...   \n",
              "110  I am 23 years old, studying in my 4 year with ...   \n",
              "155  I am 23 years old, studying in my 4 year with ...   \n",
              "9    I am 25 years old, studying in my 5 year with ...   \n",
              "73   I am 24 years old, studying in my 4 year with ...   \n",
              "453  I am 23 years old, studying in my 4 year with ...   \n",
              "130  I am 22 years old, studying in my 4 year with ...   \n",
              "\n",
              "                                   PressureDescription PHQ9_levels  \n",
              "344  I  Neutral that my Parents are Strict. I  Stro...    Moderate  \n",
              "106  I  Agree that my Parents are Strict. I  Disagr...     Minimal  \n",
              "393  I  Neutral that my Parents are Strict. I  Neut...        Mild  \n",
              "57   I  Agree that my Parents are Strict. I  Neutra...    Moderate  \n",
              "110  I  Strongly agree that my Parents are Strict. ...    Moderate  \n",
              "155  I  Disagree that my Parents are Strict. I  Agr...        Mild  \n",
              "9    I  Strongly agree that my Parents are Strict. ...     Minimal  \n",
              "73   I  Neutral that my Parents are Strict. I  Not ...      Severe  \n",
              "453  I  Strongly disagree that my Parents are Stric...     Minimal  \n",
              "130  I  Neutral that my Parents are Strict. I  Neut...        Mild  "
            ],
            "text/html": [
              "\n",
              "  <div id=\"df-f26fed4a-a09e-4fe2-acb7-29512be6af90\" class=\"colab-df-container\">\n",
              "    <div>\n",
              "<style scoped>\n",
              "    .dataframe tbody tr th:only-of-type {\n",
              "        vertical-align: middle;\n",
              "    }\n",
              "\n",
              "    .dataframe tbody tr th {\n",
              "        vertical-align: top;\n",
              "    }\n",
              "\n",
              "    .dataframe thead th {\n",
              "        text-align: right;\n",
              "    }\n",
              "</style>\n",
              "<table border=\"1\" class=\"dataframe\">\n",
              "  <thead>\n",
              "    <tr style=\"text-align: right;\">\n",
              "      <th></th>\n",
              "      <th>AcademicDescription</th>\n",
              "      <th>ViolenceDescription</th>\n",
              "      <th>SocialDescription</th>\n",
              "      <th>PHQDescription</th>\n",
              "      <th>GeneralDescription</th>\n",
              "      <th>PressureDescription</th>\n",
              "      <th>PHQ9_levels</th>\n",
              "    </tr>\n",
              "  </thead>\n",
              "  <tbody>\n",
              "    <tr>\n",
              "      <th>344</th>\n",
              "      <td>I am currently in my 1 year with a CGPA of 0.0...</td>\n",
              "      <td>I  Strongly disagree that I experienced physic...</td>\n",
              "      <td>I Neutral that My understanding with my paren...</td>\n",
              "      <td>I often feel a lack of interest in activities,...</td>\n",
              "      <td>I am 21 years old, studying in my 1 year with ...</td>\n",
              "      <td>I  Neutral that my Parents are Strict. I  Stro...</td>\n",
              "      <td>Moderate</td>\n",
              "    </tr>\n",
              "    <tr>\n",
              "      <th>106</th>\n",
              "      <td>I am currently in my 5 year with a CGPA of 3.4...</td>\n",
              "      <td>I  Disagree that I experienced physical violen...</td>\n",
              "      <td>I Disagree that My understanding with my pare...</td>\n",
              "      <td>I often feel a lack of interest in activities,...</td>\n",
              "      <td>I am 24 years old, studying in my 5 year with ...</td>\n",
              "      <td>I  Agree that my Parents are Strict. I  Disagr...</td>\n",
              "      <td>Minimal</td>\n",
              "    </tr>\n",
              "    <tr>\n",
              "      <th>393</th>\n",
              "      <td>I am currently in my 5 year with a CGPA of 3.0...</td>\n",
              "      <td>I  Strongly disagree that I experienced physic...</td>\n",
              "      <td>I Neutral that My understanding with my paren...</td>\n",
              "      <td>I often feel a lack of interest in activities,...</td>\n",
              "      <td>I am 25 years old, studying in my 5 year with ...</td>\n",
              "      <td>I  Neutral that my Parents are Strict. I  Neut...</td>\n",
              "      <td>Mild</td>\n",
              "    </tr>\n",
              "    <tr>\n",
              "      <th>57</th>\n",
              "      <td>I am currently in my 2 year with a CGPA of 3.5...</td>\n",
              "      <td>I  Neutral that I experienced physical violenc...</td>\n",
              "      <td>I Disagree that My understanding with my pare...</td>\n",
              "      <td>I often feel a lack of interest in activities,...</td>\n",
              "      <td>I am 21 years old, studying in my 2 year with ...</td>\n",
              "      <td>I  Agree that my Parents are Strict. I  Neutra...</td>\n",
              "      <td>Moderate</td>\n",
              "    </tr>\n",
              "    <tr>\n",
              "      <th>110</th>\n",
              "      <td>I am currently in my 4 year with a CGPA of 3.2...</td>\n",
              "      <td>I  Agree that I experienced physical violence,...</td>\n",
              "      <td>I Strongly agree that My understanding with m...</td>\n",
              "      <td>I often feel a lack of interest in activities,...</td>\n",
              "      <td>I am 23 years old, studying in my 4 year with ...</td>\n",
              "      <td>I  Strongly agree that my Parents are Strict. ...</td>\n",
              "      <td>Moderate</td>\n",
              "    </tr>\n",
              "    <tr>\n",
              "      <th>155</th>\n",
              "      <td>I am currently in my 4 year with a CGPA of 3.2...</td>\n",
              "      <td>I  Strongly agree that I experienced physical ...</td>\n",
              "      <td>I Not Applicable that My understanding with m...</td>\n",
              "      <td>I often feel a lack of interest in activities,...</td>\n",
              "      <td>I am 23 years old, studying in my 4 year with ...</td>\n",
              "      <td>I  Disagree that my Parents are Strict. I  Agr...</td>\n",
              "      <td>Mild</td>\n",
              "    </tr>\n",
              "    <tr>\n",
              "      <th>9</th>\n",
              "      <td>I am currently in my 5 year with a CGPA of 3.0...</td>\n",
              "      <td>I  Agree that I experienced physical violence,...</td>\n",
              "      <td>I Disagree that My understanding with my pare...</td>\n",
              "      <td>I often feel a lack of interest in activities,...</td>\n",
              "      <td>I am 25 years old, studying in my 5 year with ...</td>\n",
              "      <td>I  Strongly agree that my Parents are Strict. ...</td>\n",
              "      <td>Minimal</td>\n",
              "    </tr>\n",
              "    <tr>\n",
              "      <th>73</th>\n",
              "      <td>I am currently in my 4 year with a CGPA of 3.5...</td>\n",
              "      <td>I  Strongly disagree that I experienced physic...</td>\n",
              "      <td>I Neutral that My understanding with my paren...</td>\n",
              "      <td>I often feel a lack of interest in activities,...</td>\n",
              "      <td>I am 24 years old, studying in my 4 year with ...</td>\n",
              "      <td>I  Neutral that my Parents are Strict. I  Not ...</td>\n",
              "      <td>Severe</td>\n",
              "    </tr>\n",
              "    <tr>\n",
              "      <th>453</th>\n",
              "      <td>I am currently in my 4 year with a CGPA of 2.5...</td>\n",
              "      <td>I  Neutral that I experienced physical violenc...</td>\n",
              "      <td>I Strongly disagree that My understanding wit...</td>\n",
              "      <td>I often feel a lack of interest in activities,...</td>\n",
              "      <td>I am 23 years old, studying in my 4 year with ...</td>\n",
              "      <td>I  Strongly disagree that my Parents are Stric...</td>\n",
              "      <td>Minimal</td>\n",
              "    </tr>\n",
              "    <tr>\n",
              "      <th>130</th>\n",
              "      <td>I am currently in my 4 year with a CGPA of 3.7...</td>\n",
              "      <td>I  Neutral that I experienced physical violenc...</td>\n",
              "      <td>I Disagree that My understanding with my pare...</td>\n",
              "      <td>I often feel a lack of interest in activities,...</td>\n",
              "      <td>I am 22 years old, studying in my 4 year with ...</td>\n",
              "      <td>I  Neutral that my Parents are Strict. I  Neut...</td>\n",
              "      <td>Mild</td>\n",
              "    </tr>\n",
              "  </tbody>\n",
              "</table>\n",
              "</div>\n",
              "    <div class=\"colab-df-buttons\">\n",
              "\n",
              "  <div class=\"colab-df-container\">\n",
              "    <button class=\"colab-df-convert\" onclick=\"convertToInteractive('df-f26fed4a-a09e-4fe2-acb7-29512be6af90')\"\n",
              "            title=\"Convert this dataframe to an interactive table.\"\n",
              "            style=\"display:none;\">\n",
              "\n",
              "  <svg xmlns=\"http://www.w3.org/2000/svg\" height=\"24px\" viewBox=\"0 -960 960 960\">\n",
              "    <path d=\"M120-120v-720h720v720H120Zm60-500h600v-160H180v160Zm220 220h160v-160H400v160Zm0 220h160v-160H400v160ZM180-400h160v-160H180v160Zm440 0h160v-160H620v160ZM180-180h160v-160H180v160Zm440 0h160v-160H620v160Z\"/>\n",
              "  </svg>\n",
              "    </button>\n",
              "\n",
              "  <style>\n",
              "    .colab-df-container {\n",
              "      display:flex;\n",
              "      gap: 12px;\n",
              "    }\n",
              "\n",
              "    .colab-df-convert {\n",
              "      background-color: #E8F0FE;\n",
              "      border: none;\n",
              "      border-radius: 50%;\n",
              "      cursor: pointer;\n",
              "      display: none;\n",
              "      fill: #1967D2;\n",
              "      height: 32px;\n",
              "      padding: 0 0 0 0;\n",
              "      width: 32px;\n",
              "    }\n",
              "\n",
              "    .colab-df-convert:hover {\n",
              "      background-color: #E2EBFA;\n",
              "      box-shadow: 0px 1px 2px rgba(60, 64, 67, 0.3), 0px 1px 3px 1px rgba(60, 64, 67, 0.15);\n",
              "      fill: #174EA6;\n",
              "    }\n",
              "\n",
              "    .colab-df-buttons div {\n",
              "      margin-bottom: 4px;\n",
              "    }\n",
              "\n",
              "    [theme=dark] .colab-df-convert {\n",
              "      background-color: #3B4455;\n",
              "      fill: #D2E3FC;\n",
              "    }\n",
              "\n",
              "    [theme=dark] .colab-df-convert:hover {\n",
              "      background-color: #434B5C;\n",
              "      box-shadow: 0px 1px 3px 1px rgba(0, 0, 0, 0.15);\n",
              "      filter: drop-shadow(0px 1px 2px rgba(0, 0, 0, 0.3));\n",
              "      fill: #FFFFFF;\n",
              "    }\n",
              "  </style>\n",
              "\n",
              "    <script>\n",
              "      const buttonEl =\n",
              "        document.querySelector('#df-f26fed4a-a09e-4fe2-acb7-29512be6af90 button.colab-df-convert');\n",
              "      buttonEl.style.display =\n",
              "        google.colab.kernel.accessAllowed ? 'block' : 'none';\n",
              "\n",
              "      async function convertToInteractive(key) {\n",
              "        const element = document.querySelector('#df-f26fed4a-a09e-4fe2-acb7-29512be6af90');\n",
              "        const dataTable =\n",
              "          await google.colab.kernel.invokeFunction('convertToInteractive',\n",
              "                                                    [key], {});\n",
              "        if (!dataTable) return;\n",
              "\n",
              "        const docLinkHtml = 'Like what you see? Visit the ' +\n",
              "          '<a target=\"_blank\" href=https://colab.research.google.com/notebooks/data_table.ipynb>data table notebook</a>'\n",
              "          + ' to learn more about interactive tables.';\n",
              "        element.innerHTML = '';\n",
              "        dataTable['output_type'] = 'display_data';\n",
              "        await google.colab.output.renderOutput(dataTable, element);\n",
              "        const docLink = document.createElement('div');\n",
              "        docLink.innerHTML = docLinkHtml;\n",
              "        element.appendChild(docLink);\n",
              "      }\n",
              "    </script>\n",
              "  </div>\n",
              "\n",
              "\n",
              "<div id=\"df-cac22d03-2543-43fb-905e-1785f7009173\">\n",
              "  <button class=\"colab-df-quickchart\" onclick=\"quickchart('df-cac22d03-2543-43fb-905e-1785f7009173')\"\n",
              "            title=\"Suggest charts\"\n",
              "            style=\"display:none;\">\n",
              "\n",
              "<svg xmlns=\"http://www.w3.org/2000/svg\" height=\"24px\"viewBox=\"0 0 24 24\"\n",
              "     width=\"24px\">\n",
              "    <g>\n",
              "        <path d=\"M19 3H5c-1.1 0-2 .9-2 2v14c0 1.1.9 2 2 2h14c1.1 0 2-.9 2-2V5c0-1.1-.9-2-2-2zM9 17H7v-7h2v7zm4 0h-2V7h2v10zm4 0h-2v-4h2v4z\"/>\n",
              "    </g>\n",
              "</svg>\n",
              "  </button>\n",
              "\n",
              "<style>\n",
              "  .colab-df-quickchart {\n",
              "      --bg-color: #E8F0FE;\n",
              "      --fill-color: #1967D2;\n",
              "      --hover-bg-color: #E2EBFA;\n",
              "      --hover-fill-color: #174EA6;\n",
              "      --disabled-fill-color: #AAA;\n",
              "      --disabled-bg-color: #DDD;\n",
              "  }\n",
              "\n",
              "  [theme=dark] .colab-df-quickchart {\n",
              "      --bg-color: #3B4455;\n",
              "      --fill-color: #D2E3FC;\n",
              "      --hover-bg-color: #434B5C;\n",
              "      --hover-fill-color: #FFFFFF;\n",
              "      --disabled-bg-color: #3B4455;\n",
              "      --disabled-fill-color: #666;\n",
              "  }\n",
              "\n",
              "  .colab-df-quickchart {\n",
              "    background-color: var(--bg-color);\n",
              "    border: none;\n",
              "    border-radius: 50%;\n",
              "    cursor: pointer;\n",
              "    display: none;\n",
              "    fill: var(--fill-color);\n",
              "    height: 32px;\n",
              "    padding: 0;\n",
              "    width: 32px;\n",
              "  }\n",
              "\n",
              "  .colab-df-quickchart:hover {\n",
              "    background-color: var(--hover-bg-color);\n",
              "    box-shadow: 0 1px 2px rgba(60, 64, 67, 0.3), 0 1px 3px 1px rgba(60, 64, 67, 0.15);\n",
              "    fill: var(--button-hover-fill-color);\n",
              "  }\n",
              "\n",
              "  .colab-df-quickchart-complete:disabled,\n",
              "  .colab-df-quickchart-complete:disabled:hover {\n",
              "    background-color: var(--disabled-bg-color);\n",
              "    fill: var(--disabled-fill-color);\n",
              "    box-shadow: none;\n",
              "  }\n",
              "\n",
              "  .colab-df-spinner {\n",
              "    border: 2px solid var(--fill-color);\n",
              "    border-color: transparent;\n",
              "    border-bottom-color: var(--fill-color);\n",
              "    animation:\n",
              "      spin 1s steps(1) infinite;\n",
              "  }\n",
              "\n",
              "  @keyframes spin {\n",
              "    0% {\n",
              "      border-color: transparent;\n",
              "      border-bottom-color: var(--fill-color);\n",
              "      border-left-color: var(--fill-color);\n",
              "    }\n",
              "    20% {\n",
              "      border-color: transparent;\n",
              "      border-left-color: var(--fill-color);\n",
              "      border-top-color: var(--fill-color);\n",
              "    }\n",
              "    30% {\n",
              "      border-color: transparent;\n",
              "      border-left-color: var(--fill-color);\n",
              "      border-top-color: var(--fill-color);\n",
              "      border-right-color: var(--fill-color);\n",
              "    }\n",
              "    40% {\n",
              "      border-color: transparent;\n",
              "      border-right-color: var(--fill-color);\n",
              "      border-top-color: var(--fill-color);\n",
              "    }\n",
              "    60% {\n",
              "      border-color: transparent;\n",
              "      border-right-color: var(--fill-color);\n",
              "    }\n",
              "    80% {\n",
              "      border-color: transparent;\n",
              "      border-right-color: var(--fill-color);\n",
              "      border-bottom-color: var(--fill-color);\n",
              "    }\n",
              "    90% {\n",
              "      border-color: transparent;\n",
              "      border-bottom-color: var(--fill-color);\n",
              "    }\n",
              "  }\n",
              "</style>\n",
              "\n",
              "  <script>\n",
              "    async function quickchart(key) {\n",
              "      const quickchartButtonEl =\n",
              "        document.querySelector('#' + key + ' button');\n",
              "      quickchartButtonEl.disabled = true;  // To prevent multiple clicks.\n",
              "      quickchartButtonEl.classList.add('colab-df-spinner');\n",
              "      try {\n",
              "        const charts = await google.colab.kernel.invokeFunction(\n",
              "            'suggestCharts', [key], {});\n",
              "      } catch (error) {\n",
              "        console.error('Error during call to suggestCharts:', error);\n",
              "      }\n",
              "      quickchartButtonEl.classList.remove('colab-df-spinner');\n",
              "      quickchartButtonEl.classList.add('colab-df-quickchart-complete');\n",
              "    }\n",
              "    (() => {\n",
              "      let quickchartButtonEl =\n",
              "        document.querySelector('#df-cac22d03-2543-43fb-905e-1785f7009173 button');\n",
              "      quickchartButtonEl.style.display =\n",
              "        google.colab.kernel.accessAllowed ? 'block' : 'none';\n",
              "    })();\n",
              "  </script>\n",
              "</div>\n",
              "    </div>\n",
              "  </div>\n"
            ],
            "application/vnd.google.colaboratory.intrinsic+json": {
              "type": "dataframe",
              "summary": "{\n  \"name\": \"df\",\n  \"rows\": 10,\n  \"fields\": [\n    {\n      \"column\": \"AcademicDescription\",\n      \"properties\": {\n        \"dtype\": \"string\",\n        \"num_unique_values\": 10,\n        \"samples\": [\n          \"I am currently in my 4 year with a CGPA of 2.5, and I Neutral about my academic performance being poor. I Strongly disagree about being unhappy with my choice of subject, and I No about choosing this subject due to career prospects.\",\n          \"I am currently in my 5 year with a CGPA of 3.48, and I Disagree about my academic performance being poor. I Strongly disagree about being unhappy with my choice of subject, and I Yes about choosing this subject due to career prospects.\",\n          \"I am currently in my 4 year with a CGPA of 3.26, and I Neutral about my academic performance being poor. I Agree about being unhappy with my choice of subject, and I No about choosing this subject due to career prospects.\"\n        ],\n        \"semantic_type\": \"\",\n        \"description\": \"\"\n      }\n    },\n    {\n      \"column\": \"ViolenceDescription\",\n      \"properties\": {\n        \"dtype\": \"string\",\n        \"num_unique_values\": 9,\n        \"samples\": [\n          \"I  Strongly disagree that I experienced physical violence, I  Agree that I experienced sexual violence, I  Strongly agree that I experienced verbal violence, and I Agree that I experienced emotional violence.\",\n          \"I  Disagree that I experienced physical violence, I  Disagree that I experienced sexual violence, I  Strongly agree that I experienced verbal violence, and I Strongly agree that I experienced emotional violence.\",\n          \"I  Strongly agree that I experienced physical violence, I  Strongly agree that I experienced sexual violence, I  Strongly agree that I experienced verbal violence, and I Strongly agree that I experienced emotional violence.\"\n        ],\n        \"semantic_type\": \"\",\n        \"description\": \"\"\n      }\n    },\n    {\n      \"column\": \"SocialDescription\",\n      \"properties\": {\n        \"dtype\": \"string\",\n        \"num_unique_values\": 10,\n        \"samples\": [\n          \" I Strongly disagree that My understanding with my parents is bad.  I Strongly disagree  that my bonding with my siblings is  bad.  I Strongly disagree that there is unstability in my parental relationship. I Strongly disagree that my relationship with my peers is bad.  I Disagree that my teachers are unsupportive. I  Strongly agree that I feel social interference in my life.  I have 1 close friends and I hang out with my friends Always. My interest in others' well-being is I am less interested in other people than I used to be..\",\n          \" I Disagree that My understanding with my parents is bad.  I Agree  that my bonding with my siblings is  bad.  I Neutral that there is unstability in my parental relationship. I Disagree that my relationship with my peers is bad.  I Strongly disagree that my teachers are unsupportive. I  Strongly agree that I feel social interference in my life.  I have 3 close friends and I hang out with my friends Rarely. My interest in others' well-being is I am less interested in other people than I used to be..\",\n          \" I Not Applicable that My understanding with my parents is bad.  I Not Applicable  that my bonding with my siblings is  bad.  I Not Applicable that there is unstability in my parental relationship. I Not Applicable that my relationship with my peers is bad.  I Not Applicable that my teachers are unsupportive. I  Agree that I feel social interference in my life.  I have 2 close friends and I hang out with my friends Sometimes. My interest in others' well-being is I have not lost interest in other people..\"\n        ],\n        \"semantic_type\": \"\",\n        \"description\": \"\"\n      }\n    },\n    {\n      \"column\": \"PHQDescription\",\n      \"properties\": {\n        \"dtype\": \"string\",\n        \"num_unique_values\": 10,\n        \"samples\": [\n          \"I often feel a lack of interest in activities, described as I get as much satisfaction out of things as I used to. satisfaction, and I've been feeling down I do not feel sad.. My sleep quality is I can sleep as well as usual., and I often feel fatigued I don't get more tired than usual.. My appetite level is I have no appetite at all anymore., and I frequently feel bad about myself due to fear of failure, described as I do not feel like a failure.. I have trouble making decisions I make decisions about as well as I ever could., feel agitated None., and have had suicidal feelings Absent..\",\n          \"I often feel a lack of interest in activities, described as I get as much satisfaction out of things as I used to. satisfaction, and I've been feeling down I do not feel sad.. My sleep quality is I can sleep as well as usual., and I often feel fatigued I get tired more easily than I used to.. My appetite level is My appetite is no worse than usual., and I frequently feel bad about myself due to fear of failure, described as I do not feel like a failure.. I have trouble making decisions I make decisions about as well as I ever could., feel agitated Playing with hands, hair, etc., and have had suicidal feelings Absent..\",\n          \"I often feel a lack of interest in activities, described as I don't enjoy things the way I used to. satisfaction, and I've been feeling down I feel sad. My sleep quality is I can sleep as well as usual., and I often feel fatigued I get tired more easily than I used to.. My appetite level is My appetite is no worse than usual., and I frequently feel bad about myself due to fear of failure, described as As I look back on my life, all I can see is a lot of failures.. I have trouble making decisions I have greater difficulty in making decisions more than I used to., feel agitated None., and have had suicidal feelings Absent..\"\n        ],\n        \"semantic_type\": \"\",\n        \"description\": \"\"\n      }\n    },\n    {\n      \"column\": \"GeneralDescription\",\n      \"properties\": {\n        \"dtype\": \"string\",\n        \"num_unique_values\": 10,\n        \"samples\": [\n          \"I am 23 years old, studying in my 4 year with a CGPA of 2.5. My family's income level is 90000.  I have 1 close friends. I Never. use drugs.  I have a history of depression: No.\",\n          \"I am 24 years old, studying in my 5 year with a CGPA of 3.48. My family's income level is 70000.  I have 3 close friends. I Never. use drugs.  I have a history of depression: Yes.\",\n          \"I am 23 years old, studying in my 4 year with a CGPA of 3.26. My family's income level is 70000.  I have 2 close friends. I Never. use drugs.  I have a history of depression: Yes.\"\n        ],\n        \"semantic_type\": \"\",\n        \"description\": \"\"\n      }\n    },\n    {\n      \"column\": \"PressureDescription\",\n      \"properties\": {\n        \"dtype\": \"string\",\n        \"num_unique_values\": 10,\n        \"samples\": [\n          \"I  Strongly disagree that my Parents are Strict. I  Agree that I experienced Academic Pressure from my parents, I  Agree that I experienced Marriage Pressure from my parents, and I Agree that I experienced Career Pressure from my parents,and I Agree that I experienced Pressure for studying abroad from my parents,\",\n          \"I  Agree that my Parents are Strict. I  Disagree that I experienced Academic Pressure from my parents, I  Disagree that I experienced Marriage Pressure from my parents, and I Agree that I experienced Career Pressure from my parents,and I Agree that I experienced Pressure for studying abroad from my parents,\",\n          \"I  Disagree that my Parents are Strict. I  Agree that I experienced Academic Pressure from my parents, I  Strongly disagree that I experienced Marriage Pressure from my parents, and I Strongly disagree that I experienced Career Pressure from my parents,and I Disagree that I experienced Pressure for studying abroad from my parents,\"\n        ],\n        \"semantic_type\": \"\",\n        \"description\": \"\"\n      }\n    },\n    {\n      \"column\": \"PHQ9_levels\",\n      \"properties\": {\n        \"dtype\": \"category\",\n        \"num_unique_values\": 4,\n        \"samples\": [\n          \"Minimal\",\n          \"Severe\",\n          \"Moderate\"\n        ],\n        \"semantic_type\": \"\",\n        \"description\": \"\"\n      }\n    }\n  ]\n}"
            }
          },
          "metadata": {},
          "execution_count": 9
        }
      ],
      "source": [
        "df = pd.read_excel('PHQ9DepressionNLP_elaborated.xlsx')\n",
        "\n",
        "print('Number of training sentences: {:,}\\n'.format(df.shape[0]))\n",
        "# Display 10 random rows from the data.\n",
        "df.sample(10)"
      ]
    },
    {
      "cell_type": "markdown",
      "metadata": {
        "id": "llj2tzXn3nI_"
      },
      "source": [
        "# Preprocessing"
      ]
    },
    {
      "cell_type": "code",
      "execution_count": null,
      "metadata": {
        "id": "uiSJkTUJ3nJA"
      },
      "outputs": [],
      "source": [
        "# Define the mapping from category to integer\n",
        "encoding_map = {\n",
        "    'Minimal': 0,\n",
        "    'Mild': 1,\n",
        "    'Moderate': 2,\n",
        "    'ModeratelySevere' : 3,\n",
        "    'Severe': 4,\n",
        "}\n",
        "\n",
        "# Apply the mapping to the DataFrame\n",
        "df['PHQ9_levels'] = df['PHQ9_levels'].replace(encoding_map)"
      ]
    },
    {
      "cell_type": "code",
      "execution_count": null,
      "metadata": {
        "colab": {
          "base_uri": "https://localhost:8080/",
          "height": 380
        },
        "id": "XSHSTvUc3nJB",
        "outputId": "f1b05534-3bf3-4c5f-d3fe-069a25785f1a"
      },
      "outputs": [
        {
          "output_type": "execute_result",
          "data": {
            "text/plain": [
              "                                 AcademicDescription  \\\n",
              "0  I am currently in my 4 year with a CGPA of 3.3...   \n",
              "1  I am currently in my 1 year with a CGPA of 3.0...   \n",
              "2  I am currently in my 4 year with a CGPA of 3.0...   \n",
              "3  I am currently in my 1 year with a CGPA of 3.8...   \n",
              "4  I am currently in my 4 year with a CGPA of 3.4...   \n",
              "\n",
              "                                 ViolenceDescription  \\\n",
              "0  I  Disagree that I experienced physical violen...   \n",
              "1  I  Disagree that I experienced physical violen...   \n",
              "2  I  Neutral that I experienced physical violenc...   \n",
              "3  I  Agree that I experienced physical violence,...   \n",
              "4  I  Disagree that I experienced physical violen...   \n",
              "\n",
              "                                   SocialDescription  \\\n",
              "0   I Disagree that My understanding with my pare...   \n",
              "1   I Disagree that My understanding with my pare...   \n",
              "2   I Agree that My understanding with my parents...   \n",
              "3   I Strongly disagree that My understanding wit...   \n",
              "4   I Disagree that My understanding with my pare...   \n",
              "\n",
              "                                      PHQDescription  \\\n",
              "0  I often feel a lack of interest in activities,...   \n",
              "1  I often feel a lack of interest in activities,...   \n",
              "2  I often feel a lack of interest in activities,...   \n",
              "3  I often feel a lack of interest in activities,...   \n",
              "4  I often feel a lack of interest in activities,...   \n",
              "\n",
              "                                  GeneralDescription  \\\n",
              "0  I am 23 years old, studying in my 4 year with ...   \n",
              "1  I am 24 years old, studying in my 1 year with ...   \n",
              "2  I am 24 years old, studying in my 4 year with ...   \n",
              "3  I am 22 years old, studying in my 1 year with ...   \n",
              "4  I am 25 years old, studying in my 4 year with ...   \n",
              "\n",
              "                                 PressureDescription  PHQ9_levels  \n",
              "0  I  Agree that my Parents are Strict. I  Agree ...            0  \n",
              "1  I  Disagree that my Parents are Strict. I  Dis...            0  \n",
              "2  I  Neutral that my Parents are Strict. I  Disa...            0  \n",
              "3  I  Neutral that my Parents are Strict. I  Neut...            0  \n",
              "4  I  Strongly disagree that my Parents are Stric...            2  "
            ],
            "text/html": [
              "\n",
              "  <div id=\"df-d64accaa-f8c6-4a8b-87e3-b4be1e473577\" class=\"colab-df-container\">\n",
              "    <div>\n",
              "<style scoped>\n",
              "    .dataframe tbody tr th:only-of-type {\n",
              "        vertical-align: middle;\n",
              "    }\n",
              "\n",
              "    .dataframe tbody tr th {\n",
              "        vertical-align: top;\n",
              "    }\n",
              "\n",
              "    .dataframe thead th {\n",
              "        text-align: right;\n",
              "    }\n",
              "</style>\n",
              "<table border=\"1\" class=\"dataframe\">\n",
              "  <thead>\n",
              "    <tr style=\"text-align: right;\">\n",
              "      <th></th>\n",
              "      <th>AcademicDescription</th>\n",
              "      <th>ViolenceDescription</th>\n",
              "      <th>SocialDescription</th>\n",
              "      <th>PHQDescription</th>\n",
              "      <th>GeneralDescription</th>\n",
              "      <th>PressureDescription</th>\n",
              "      <th>PHQ9_levels</th>\n",
              "    </tr>\n",
              "  </thead>\n",
              "  <tbody>\n",
              "    <tr>\n",
              "      <th>0</th>\n",
              "      <td>I am currently in my 4 year with a CGPA of 3.3...</td>\n",
              "      <td>I  Disagree that I experienced physical violen...</td>\n",
              "      <td>I Disagree that My understanding with my pare...</td>\n",
              "      <td>I often feel a lack of interest in activities,...</td>\n",
              "      <td>I am 23 years old, studying in my 4 year with ...</td>\n",
              "      <td>I  Agree that my Parents are Strict. I  Agree ...</td>\n",
              "      <td>0</td>\n",
              "    </tr>\n",
              "    <tr>\n",
              "      <th>1</th>\n",
              "      <td>I am currently in my 1 year with a CGPA of 3.0...</td>\n",
              "      <td>I  Disagree that I experienced physical violen...</td>\n",
              "      <td>I Disagree that My understanding with my pare...</td>\n",
              "      <td>I often feel a lack of interest in activities,...</td>\n",
              "      <td>I am 24 years old, studying in my 1 year with ...</td>\n",
              "      <td>I  Disagree that my Parents are Strict. I  Dis...</td>\n",
              "      <td>0</td>\n",
              "    </tr>\n",
              "    <tr>\n",
              "      <th>2</th>\n",
              "      <td>I am currently in my 4 year with a CGPA of 3.0...</td>\n",
              "      <td>I  Neutral that I experienced physical violenc...</td>\n",
              "      <td>I Agree that My understanding with my parents...</td>\n",
              "      <td>I often feel a lack of interest in activities,...</td>\n",
              "      <td>I am 24 years old, studying in my 4 year with ...</td>\n",
              "      <td>I  Neutral that my Parents are Strict. I  Disa...</td>\n",
              "      <td>0</td>\n",
              "    </tr>\n",
              "    <tr>\n",
              "      <th>3</th>\n",
              "      <td>I am currently in my 1 year with a CGPA of 3.8...</td>\n",
              "      <td>I  Agree that I experienced physical violence,...</td>\n",
              "      <td>I Strongly disagree that My understanding wit...</td>\n",
              "      <td>I often feel a lack of interest in activities,...</td>\n",
              "      <td>I am 22 years old, studying in my 1 year with ...</td>\n",
              "      <td>I  Neutral that my Parents are Strict. I  Neut...</td>\n",
              "      <td>0</td>\n",
              "    </tr>\n",
              "    <tr>\n",
              "      <th>4</th>\n",
              "      <td>I am currently in my 4 year with a CGPA of 3.4...</td>\n",
              "      <td>I  Disagree that I experienced physical violen...</td>\n",
              "      <td>I Disagree that My understanding with my pare...</td>\n",
              "      <td>I often feel a lack of interest in activities,...</td>\n",
              "      <td>I am 25 years old, studying in my 4 year with ...</td>\n",
              "      <td>I  Strongly disagree that my Parents are Stric...</td>\n",
              "      <td>2</td>\n",
              "    </tr>\n",
              "  </tbody>\n",
              "</table>\n",
              "</div>\n",
              "    <div class=\"colab-df-buttons\">\n",
              "\n",
              "  <div class=\"colab-df-container\">\n",
              "    <button class=\"colab-df-convert\" onclick=\"convertToInteractive('df-d64accaa-f8c6-4a8b-87e3-b4be1e473577')\"\n",
              "            title=\"Convert this dataframe to an interactive table.\"\n",
              "            style=\"display:none;\">\n",
              "\n",
              "  <svg xmlns=\"http://www.w3.org/2000/svg\" height=\"24px\" viewBox=\"0 -960 960 960\">\n",
              "    <path d=\"M120-120v-720h720v720H120Zm60-500h600v-160H180v160Zm220 220h160v-160H400v160Zm0 220h160v-160H400v160ZM180-400h160v-160H180v160Zm440 0h160v-160H620v160ZM180-180h160v-160H180v160Zm440 0h160v-160H620v160Z\"/>\n",
              "  </svg>\n",
              "    </button>\n",
              "\n",
              "  <style>\n",
              "    .colab-df-container {\n",
              "      display:flex;\n",
              "      gap: 12px;\n",
              "    }\n",
              "\n",
              "    .colab-df-convert {\n",
              "      background-color: #E8F0FE;\n",
              "      border: none;\n",
              "      border-radius: 50%;\n",
              "      cursor: pointer;\n",
              "      display: none;\n",
              "      fill: #1967D2;\n",
              "      height: 32px;\n",
              "      padding: 0 0 0 0;\n",
              "      width: 32px;\n",
              "    }\n",
              "\n",
              "    .colab-df-convert:hover {\n",
              "      background-color: #E2EBFA;\n",
              "      box-shadow: 0px 1px 2px rgba(60, 64, 67, 0.3), 0px 1px 3px 1px rgba(60, 64, 67, 0.15);\n",
              "      fill: #174EA6;\n",
              "    }\n",
              "\n",
              "    .colab-df-buttons div {\n",
              "      margin-bottom: 4px;\n",
              "    }\n",
              "\n",
              "    [theme=dark] .colab-df-convert {\n",
              "      background-color: #3B4455;\n",
              "      fill: #D2E3FC;\n",
              "    }\n",
              "\n",
              "    [theme=dark] .colab-df-convert:hover {\n",
              "      background-color: #434B5C;\n",
              "      box-shadow: 0px 1px 3px 1px rgba(0, 0, 0, 0.15);\n",
              "      filter: drop-shadow(0px 1px 2px rgba(0, 0, 0, 0.3));\n",
              "      fill: #FFFFFF;\n",
              "    }\n",
              "  </style>\n",
              "\n",
              "    <script>\n",
              "      const buttonEl =\n",
              "        document.querySelector('#df-d64accaa-f8c6-4a8b-87e3-b4be1e473577 button.colab-df-convert');\n",
              "      buttonEl.style.display =\n",
              "        google.colab.kernel.accessAllowed ? 'block' : 'none';\n",
              "\n",
              "      async function convertToInteractive(key) {\n",
              "        const element = document.querySelector('#df-d64accaa-f8c6-4a8b-87e3-b4be1e473577');\n",
              "        const dataTable =\n",
              "          await google.colab.kernel.invokeFunction('convertToInteractive',\n",
              "                                                    [key], {});\n",
              "        if (!dataTable) return;\n",
              "\n",
              "        const docLinkHtml = 'Like what you see? Visit the ' +\n",
              "          '<a target=\"_blank\" href=https://colab.research.google.com/notebooks/data_table.ipynb>data table notebook</a>'\n",
              "          + ' to learn more about interactive tables.';\n",
              "        element.innerHTML = '';\n",
              "        dataTable['output_type'] = 'display_data';\n",
              "        await google.colab.output.renderOutput(dataTable, element);\n",
              "        const docLink = document.createElement('div');\n",
              "        docLink.innerHTML = docLinkHtml;\n",
              "        element.appendChild(docLink);\n",
              "      }\n",
              "    </script>\n",
              "  </div>\n",
              "\n",
              "\n",
              "<div id=\"df-6b6c3b8a-642f-484d-a929-1c031dbbdc26\">\n",
              "  <button class=\"colab-df-quickchart\" onclick=\"quickchart('df-6b6c3b8a-642f-484d-a929-1c031dbbdc26')\"\n",
              "            title=\"Suggest charts\"\n",
              "            style=\"display:none;\">\n",
              "\n",
              "<svg xmlns=\"http://www.w3.org/2000/svg\" height=\"24px\"viewBox=\"0 0 24 24\"\n",
              "     width=\"24px\">\n",
              "    <g>\n",
              "        <path d=\"M19 3H5c-1.1 0-2 .9-2 2v14c0 1.1.9 2 2 2h14c1.1 0 2-.9 2-2V5c0-1.1-.9-2-2-2zM9 17H7v-7h2v7zm4 0h-2V7h2v10zm4 0h-2v-4h2v4z\"/>\n",
              "    </g>\n",
              "</svg>\n",
              "  </button>\n",
              "\n",
              "<style>\n",
              "  .colab-df-quickchart {\n",
              "      --bg-color: #E8F0FE;\n",
              "      --fill-color: #1967D2;\n",
              "      --hover-bg-color: #E2EBFA;\n",
              "      --hover-fill-color: #174EA6;\n",
              "      --disabled-fill-color: #AAA;\n",
              "      --disabled-bg-color: #DDD;\n",
              "  }\n",
              "\n",
              "  [theme=dark] .colab-df-quickchart {\n",
              "      --bg-color: #3B4455;\n",
              "      --fill-color: #D2E3FC;\n",
              "      --hover-bg-color: #434B5C;\n",
              "      --hover-fill-color: #FFFFFF;\n",
              "      --disabled-bg-color: #3B4455;\n",
              "      --disabled-fill-color: #666;\n",
              "  }\n",
              "\n",
              "  .colab-df-quickchart {\n",
              "    background-color: var(--bg-color);\n",
              "    border: none;\n",
              "    border-radius: 50%;\n",
              "    cursor: pointer;\n",
              "    display: none;\n",
              "    fill: var(--fill-color);\n",
              "    height: 32px;\n",
              "    padding: 0;\n",
              "    width: 32px;\n",
              "  }\n",
              "\n",
              "  .colab-df-quickchart:hover {\n",
              "    background-color: var(--hover-bg-color);\n",
              "    box-shadow: 0 1px 2px rgba(60, 64, 67, 0.3), 0 1px 3px 1px rgba(60, 64, 67, 0.15);\n",
              "    fill: var(--button-hover-fill-color);\n",
              "  }\n",
              "\n",
              "  .colab-df-quickchart-complete:disabled,\n",
              "  .colab-df-quickchart-complete:disabled:hover {\n",
              "    background-color: var(--disabled-bg-color);\n",
              "    fill: var(--disabled-fill-color);\n",
              "    box-shadow: none;\n",
              "  }\n",
              "\n",
              "  .colab-df-spinner {\n",
              "    border: 2px solid var(--fill-color);\n",
              "    border-color: transparent;\n",
              "    border-bottom-color: var(--fill-color);\n",
              "    animation:\n",
              "      spin 1s steps(1) infinite;\n",
              "  }\n",
              "\n",
              "  @keyframes spin {\n",
              "    0% {\n",
              "      border-color: transparent;\n",
              "      border-bottom-color: var(--fill-color);\n",
              "      border-left-color: var(--fill-color);\n",
              "    }\n",
              "    20% {\n",
              "      border-color: transparent;\n",
              "      border-left-color: var(--fill-color);\n",
              "      border-top-color: var(--fill-color);\n",
              "    }\n",
              "    30% {\n",
              "      border-color: transparent;\n",
              "      border-left-color: var(--fill-color);\n",
              "      border-top-color: var(--fill-color);\n",
              "      border-right-color: var(--fill-color);\n",
              "    }\n",
              "    40% {\n",
              "      border-color: transparent;\n",
              "      border-right-color: var(--fill-color);\n",
              "      border-top-color: var(--fill-color);\n",
              "    }\n",
              "    60% {\n",
              "      border-color: transparent;\n",
              "      border-right-color: var(--fill-color);\n",
              "    }\n",
              "    80% {\n",
              "      border-color: transparent;\n",
              "      border-right-color: var(--fill-color);\n",
              "      border-bottom-color: var(--fill-color);\n",
              "    }\n",
              "    90% {\n",
              "      border-color: transparent;\n",
              "      border-bottom-color: var(--fill-color);\n",
              "    }\n",
              "  }\n",
              "</style>\n",
              "\n",
              "  <script>\n",
              "    async function quickchart(key) {\n",
              "      const quickchartButtonEl =\n",
              "        document.querySelector('#' + key + ' button');\n",
              "      quickchartButtonEl.disabled = true;  // To prevent multiple clicks.\n",
              "      quickchartButtonEl.classList.add('colab-df-spinner');\n",
              "      try {\n",
              "        const charts = await google.colab.kernel.invokeFunction(\n",
              "            'suggestCharts', [key], {});\n",
              "      } catch (error) {\n",
              "        console.error('Error during call to suggestCharts:', error);\n",
              "      }\n",
              "      quickchartButtonEl.classList.remove('colab-df-spinner');\n",
              "      quickchartButtonEl.classList.add('colab-df-quickchart-complete');\n",
              "    }\n",
              "    (() => {\n",
              "      let quickchartButtonEl =\n",
              "        document.querySelector('#df-6b6c3b8a-642f-484d-a929-1c031dbbdc26 button');\n",
              "      quickchartButtonEl.style.display =\n",
              "        google.colab.kernel.accessAllowed ? 'block' : 'none';\n",
              "    })();\n",
              "  </script>\n",
              "</div>\n",
              "    </div>\n",
              "  </div>\n"
            ],
            "application/vnd.google.colaboratory.intrinsic+json": {
              "type": "dataframe",
              "variable_name": "df",
              "summary": "{\n  \"name\": \"df\",\n  \"rows\": 520,\n  \"fields\": [\n    {\n      \"column\": \"AcademicDescription\",\n      \"properties\": {\n        \"dtype\": \"string\",\n        \"num_unique_values\": 487,\n        \"samples\": [\n          \"I am currently in my 3 year with a CGPA of 2.8, and I Agree about my academic performance being poor. I Agree about being unhappy with my choice of subject, and I Yes about choosing this subject due to career prospects.\",\n          \"I am currently in my 1 year with a CGPA of 2.1, and I Agree about my academic performance being poor. I Disagree about being unhappy with my choice of subject, and I Yes about choosing this subject due to career prospects.\",\n          \"I am currently in my 2 year with a CGPA of 3.0, and I Disagree about my academic performance being poor. I Neutral about being unhappy with my choice of subject, and I No about choosing this subject due to career prospects.\"\n        ],\n        \"semantic_type\": \"\",\n        \"description\": \"\"\n      }\n    },\n    {\n      \"column\": \"ViolenceDescription\",\n      \"properties\": {\n        \"dtype\": \"category\",\n        \"num_unique_values\": 145,\n        \"samples\": [\n          \"I  Strongly agree that I experienced physical violence, I  Agree that I experienced sexual violence, I  Strongly agree that I experienced verbal violence, and I Strongly agree that I experienced emotional violence.\",\n          \"I  Agree that I experienced physical violence, I  Strongly disagree that I experienced sexual violence, I  Strongly disagree that I experienced verbal violence, and I Agree that I experienced emotional violence.\",\n          \"I  Disagree that I experienced physical violence, I  Neutral that I experienced sexual violence, I  Neutral that I experienced verbal violence, and I Agree that I experienced emotional violence.\"\n        ],\n        \"semantic_type\": \"\",\n        \"description\": \"\"\n      }\n    },\n    {\n      \"column\": \"SocialDescription\",\n      \"properties\": {\n        \"dtype\": \"string\",\n        \"num_unique_values\": 471,\n        \"samples\": [\n          \" I Disagree that My understanding with my parents is bad.  I Disagree  that my bonding with my siblings is  bad.  I Disagree that there is unstability in my parental relationship. I Disagree that my relationship with my peers is bad.  I Disagree that my teachers are unsupportive. I  Neutral that I feel social interference in my life.  I have 7 close friends and I hang out with my friends Sometimes. My interest in others' well-being is I have not lost interest in other people..\",\n          \" I Neutral that My understanding with my parents is bad.  I Disagree  that my bonding with my siblings is  bad.  I Not Applicable that there is unstability in my parental relationship. I Agree that my relationship with my peers is bad.  I Neutral that my teachers are unsupportive. I  Agree that I feel social interference in my life.  I have 1 close friends and I hang out with my friends Rarely. My interest in others' well-being is I have lost all of my interest in other people..\",\n          \" I Agree that My understanding with my parents is bad.  I Disagree  that my bonding with my siblings is  bad.  I Disagree that there is unstability in my parental relationship. I Neutral that my relationship with my peers is bad.  I Neutral that my teachers are unsupportive. I  Strongly agree that I feel social interference in my life.  I have 2 close friends and I hang out with my friends Never. My interest in others' well-being is I have lost all of my interest in other people..\"\n        ],\n        \"semantic_type\": \"\",\n        \"description\": \"\"\n      }\n    },\n    {\n      \"column\": \"PHQDescription\",\n      \"properties\": {\n        \"dtype\": \"string\",\n        \"num_unique_values\": 396,\n        \"samples\": [\n          \"I often feel a lack of interest in activities, described as I am dissatisfied or bored with everything. satisfaction, and I've been feeling down I am so sad and unhappy that I can't stand it.. My sleep quality is I don't sleep as well as I used to., and I often feel fatigued I am too tired to do anything.. My appetite level is My appetite is much worse now., and I frequently feel bad about myself due to fear of failure, described as I feel I am a complete failure as a person.. I have trouble making decisions I have greater difficulty in making decisions more than I used to., feel agitated Fidgetiness/ (\\u0985\\u09b8\\u09cd\\u09a5\\u09bf\\u09b0\\u09a4\\u09be), and have had suicidal feelings Feels life is not worth living.(\\u099c\\u09c0\\u09ac\\u09a8 \\u09a8\\u09bf\\u09b0\\u09b0\\u09cd\\u09a5\\u0995 \\u09ae\\u09a8\\u09c7 \\u09b9\\u0993\\u09df\\u09be).\",\n          \"I often feel a lack of interest in activities, described as I am dissatisfied or bored with everything. satisfaction, and I've been feeling down I am sad all the time and I can't snap out of it.. My sleep quality is I don't sleep as well as I used to., and I often feel fatigued I am too tired to do anything.. My appetite level is I have no appetite at all anymore., and I frequently feel bad about myself due to fear of failure, described as I feel I am a complete failure as a person.. I have trouble making decisions I put off making decisions more than I used to., feel agitated Fidgetiness/ (\\u0985\\u09b8\\u09cd\\u09a5\\u09bf\\u09b0\\u09a4\\u09be), and have had suicidal feelings Attempts at suicide.(\\u0986\\u09a4\\u09cd\\u09ae\\u09b9\\u09a4\\u09cd\\u09af\\u09be\\u09b0 \\u099a\\u09c7\\u09b7\\u09cd\\u099f\\u09be).\",\n          \"I often feel a lack of interest in activities, described as I don't enjoy things the way I used to. satisfaction, and I've been feeling down I feel sad. My sleep quality is I can sleep as well as usual., and I often feel fatigued I get tired more easily than I used to.. My appetite level is My appetite is not as good as it used to be., and I frequently feel bad about myself due to fear of failure, described as I feel I have failed more than the average person.. I have trouble making decisions I put off making decisions more than I used to., feel agitated Fidgetiness/ (\\u0985\\u09b8\\u09cd\\u09a5\\u09bf\\u09b0\\u09a4\\u09be), and have had suicidal feelings Wishes he/she were dead or any thoughts of possible death to self.(\\u09ae\\u09c3\\u09a4\\u09cd\\u09af\\u09c1\\u09b0 \\u0987\\u099a\\u09cd\\u099b\\u09be/\\u099a\\u09bf\\u09a8\\u09cd\\u09a4\\u09be).\"\n        ],\n        \"semantic_type\": \"\",\n        \"description\": \"\"\n      }\n    },\n    {\n      \"column\": \"GeneralDescription\",\n      \"properties\": {\n        \"dtype\": \"string\",\n        \"num_unique_values\": 516,\n        \"samples\": [\n          \"I am 21 years old, studying in my 3 year with a CGPA of 3.77. My family's income level is 250000.  I have 1 close friends. I Never. use drugs.  I have a history of depression: No.\",\n          \"I am 23 years old, studying in my 4 year with a CGPA of 3.3. My family's income level is 50000.  I have 1 close friends. I Never. use drugs.  I have a history of depression: Yes.\",\n          \"I am 22 years old, studying in my 2 year with a CGPA of 3.0. My family's income level is 50000.  I have 4 close friends. I Never. use drugs.  I have a history of depression: Yes.\"\n        ],\n        \"semantic_type\": \"\",\n        \"description\": \"\"\n      }\n    },\n    {\n      \"column\": \"PressureDescription\",\n      \"properties\": {\n        \"dtype\": \"category\",\n        \"num_unique_values\": 234,\n        \"samples\": [\n          \"I  Agree that my Parents are Strict. I  Disagree that I experienced Academic Pressure from my parents, I  Strongly disagree that I experienced Marriage Pressure from my parents, and I Strongly disagree that I experienced Career Pressure from my parents,and I Strongly disagree that I experienced Pressure for studying abroad from my parents,\",\n          \"I  Neutral that my Parents are Strict. I  Disagree that I experienced Academic Pressure from my parents, I  Disagree that I experienced Marriage Pressure from my parents, and I Neutral that I experienced Career Pressure from my parents,and I Neutral that I experienced Pressure for studying abroad from my parents,\",\n          \"I  Agree that my Parents are Strict. I  Agree that I experienced Academic Pressure from my parents, I  Strongly agree that I experienced Marriage Pressure from my parents, and I Strongly agree that I experienced Career Pressure from my parents,and I Strongly agree that I experienced Pressure for studying abroad from my parents,\"\n        ],\n        \"semantic_type\": \"\",\n        \"description\": \"\"\n      }\n    },\n    {\n      \"column\": \"PHQ9_levels\",\n      \"properties\": {\n        \"dtype\": \"number\",\n        \"std\": 1,\n        \"min\": 0,\n        \"max\": 4,\n        \"num_unique_values\": 5,\n        \"samples\": [\n          2,\n          4,\n          1\n        ],\n        \"semantic_type\": \"\",\n        \"description\": \"\"\n      }\n    }\n  ]\n}"
            }
          },
          "metadata": {},
          "execution_count": 11
        }
      ],
      "source": [
        "df.head()"
      ]
    },
    {
      "cell_type": "code",
      "source": [
        "df['PHQ9_levels'].unique()"
      ],
      "metadata": {
        "colab": {
          "base_uri": "https://localhost:8080/"
        },
        "id": "bgzw1LeSPFTv",
        "outputId": "265c2ddb-c3e6-4790-d7f3-19b8c62a5156"
      },
      "execution_count": null,
      "outputs": [
        {
          "output_type": "execute_result",
          "data": {
            "text/plain": [
              "array([0, 2, 1, 3, 4])"
            ]
          },
          "metadata": {},
          "execution_count": 12
        }
      ]
    },
    {
      "cell_type": "code",
      "execution_count": null,
      "metadata": {
        "execution": {
          "iopub.execute_input": "2024-02-26T00:46:16.806768Z",
          "iopub.status.busy": "2024-02-26T00:46:16.806432Z",
          "iopub.status.idle": "2024-02-26T00:46:16.811663Z",
          "shell.execute_reply": "2024-02-26T00:46:16.810519Z",
          "shell.execute_reply.started": "2024-02-26T00:46:16.806743Z"
        },
        "id": "HQDJ9SP43nJC"
      },
      "outputs": [],
      "source": [
        "sentences = df['AcademicDescription'].values\n",
        "labels = df['PHQ9_levels'].values"
      ]
    },
    {
      "cell_type": "markdown",
      "metadata": {
        "id": "myVWQrH53nJC"
      },
      "source": [
        "# Train Test Val split"
      ]
    },
    {
      "cell_type": "code",
      "execution_count": null,
      "metadata": {
        "execution": {
          "iopub.execute_input": "2024-02-26T00:40:13.889273Z",
          "iopub.status.busy": "2024-02-26T00:40:13.888547Z",
          "iopub.status.idle": "2024-02-26T00:40:14.287717Z",
          "shell.execute_reply": "2024-02-26T00:40:14.286921Z",
          "shell.execute_reply.started": "2024-02-26T00:40:13.889234Z"
        },
        "id": "b-Mto-wz3nJC"
      },
      "outputs": [],
      "source": [
        "from sklearn.model_selection import train_test_split\n",
        "\n",
        "train, temp = train_test_split(df, random_state=1508, shuffle=True, test_size=0.2)"
      ]
    },
    {
      "cell_type": "code",
      "execution_count": null,
      "metadata": {
        "execution": {
          "iopub.execute_input": "2024-02-26T00:50:43.120305Z",
          "iopub.status.busy": "2024-02-26T00:50:43.119941Z",
          "iopub.status.idle": "2024-02-26T00:50:43.127814Z",
          "shell.execute_reply": "2024-02-26T00:50:43.126888Z",
          "shell.execute_reply.started": "2024-02-26T00:50:43.120276Z"
        },
        "id": "0HAQWm273nJC"
      },
      "outputs": [],
      "source": [
        "test, validation = train_test_split(temp, random_state=1508, shuffle=True, test_size=0.5)"
      ]
    },
    {
      "cell_type": "code",
      "execution_count": null,
      "metadata": {
        "execution": {
          "iopub.execute_input": "2024-02-26T00:57:39.465366Z",
          "iopub.status.busy": "2024-02-26T00:57:39.465003Z",
          "iopub.status.idle": "2024-02-26T00:57:39.471026Z",
          "shell.execute_reply": "2024-02-26T00:57:39.470037Z",
          "shell.execute_reply.started": "2024-02-26T00:57:39.465325Z"
        },
        "id": "Hs0oM11t3nJC"
      },
      "outputs": [],
      "source": [
        "# Get the lists of sentences and their labels.\n",
        "trn_sentences = train['AcademicDescription'].values\n",
        "train_labels = train['PHQ9_levels'].values\n",
        "\n",
        "tst_sentences = test['AcademicDescription'].values\n",
        "test_labels = test['PHQ9_levels'].values\n",
        "\n",
        "val_sentences = validation['AcademicDescription'].values\n",
        "validation_labels = validation['PHQ9_levels'].values"
      ]
    },
    {
      "cell_type": "markdown",
      "metadata": {
        "id": "3oervN_W3nJD"
      },
      "source": [
        "## tokenization"
      ]
    },
    {
      "cell_type": "code",
      "execution_count": null,
      "metadata": {
        "execution": {
          "iopub.execute_input": "2024-02-26T00:46:25.538531Z",
          "iopub.status.busy": "2024-02-26T00:46:25.537951Z",
          "iopub.status.idle": "2024-02-26T00:46:27.894862Z",
          "shell.execute_reply": "2024-02-26T00:46:27.893938Z",
          "shell.execute_reply.started": "2024-02-26T00:46:25.538502Z"
        },
        "colab": {
          "base_uri": "https://localhost:8080/"
        },
        "id": "JONtlzxN3nJD",
        "outputId": "eba2cde6-9b14-4731-f7b9-96badbbfe04a"
      },
      "outputs": [
        {
          "output_type": "stream",
          "name": "stderr",
          "text": [
            "/usr/local/lib/python3.10/dist-packages/huggingface_hub/utils/_token.py:88: UserWarning: \n",
            "The secret `HF_TOKEN` does not exist in your Colab secrets.\n",
            "To authenticate with the Hugging Face Hub, create a token in your settings tab (https://huggingface.co/settings/tokens), set it as secret in your Google Colab and restart your session.\n",
            "You will be able to reuse this secret in all of your notebooks.\n",
            "Please note that authentication is recommended but still optional to access public models or datasets.\n",
            "  warnings.warn(\n"
          ]
        }
      ],
      "source": [
        "from transformers import AutoTokenizer, AutoModelForSequenceClassification\n",
        "\n",
        "# Tokenizer\n",
        "tokenizer = AutoTokenizer.from_pretrained(\"dmis-lab/biobert-v1.1\")"
      ]
    },
    {
      "cell_type": "code",
      "execution_count": null,
      "metadata": {
        "execution": {
          "iopub.execute_input": "2024-02-26T00:46:30.241048Z",
          "iopub.status.busy": "2024-02-26T00:46:30.240602Z",
          "iopub.status.idle": "2024-02-26T00:46:30.24817Z",
          "shell.execute_reply": "2024-02-26T00:46:30.247232Z",
          "shell.execute_reply.started": "2024-02-26T00:46:30.241011Z"
        },
        "colab": {
          "base_uri": "https://localhost:8080/"
        },
        "id": "bSXmOudq3nJD",
        "outputId": "4a52a845-d51f-416d-985e-e83d4fe6caa9"
      },
      "outputs": [
        {
          "output_type": "stream",
          "name": "stdout",
          "text": [
            "[101, 1422, 1271, 1110, 8393, 1105, 146, 1821, 5397, 1136, 15941, 102]\n",
            "[CLS] My name is Leon and I am definitely not depressed [SEP]\n"
          ]
        }
      ],
      "source": [
        "enc_exp = tokenizer.encode('My name is Leon and I am definitely not depressed')\n",
        "dec_exp = tokenizer.decode(enc_exp)\n",
        "print(enc_exp)\n",
        "print(dec_exp)"
      ]
    },
    {
      "cell_type": "markdown",
      "metadata": {
        "id": "mhK6-7NC3nJD"
      },
      "source": [
        "## padding & masking"
      ]
    },
    {
      "cell_type": "code",
      "execution_count": null,
      "metadata": {
        "execution": {
          "iopub.execute_input": "2024-02-26T00:46:32.491177Z",
          "iopub.status.busy": "2024-02-26T00:46:32.490373Z",
          "iopub.status.idle": "2024-02-26T00:46:32.499229Z",
          "shell.execute_reply": "2024-02-26T00:46:32.498208Z",
          "shell.execute_reply.started": "2024-02-26T00:46:32.491147Z"
        },
        "colab": {
          "base_uri": "https://localhost:8080/"
        },
        "id": "k8HZMTbv3nJE",
        "outputId": "ec695ae9-385c-44ad-d868-4d7959fac575"
      },
      "outputs": [
        {
          "output_type": "stream",
          "name": "stdout",
          "text": [
            "Max array length:  244\n"
          ]
        }
      ],
      "source": [
        "print('Max array length: ', max([len(i) for i in sentences]))"
      ]
    },
    {
      "cell_type": "code",
      "execution_count": null,
      "metadata": {
        "execution": {
          "iopub.execute_input": "2024-02-26T00:46:34.344005Z",
          "iopub.status.busy": "2024-02-26T00:46:34.343192Z",
          "iopub.status.idle": "2024-02-26T00:46:34.364622Z",
          "shell.execute_reply": "2024-02-26T00:46:34.363636Z",
          "shell.execute_reply.started": "2024-02-26T00:46:34.343977Z"
        },
        "scrolled": true,
        "colab": {
          "base_uri": "https://localhost:8080/"
        },
        "id": "useKiviw3nJE",
        "outputId": "e1c518e3-e9c0-4140-b4d3-671f070328fc"
      },
      "outputs": [
        {
          "output_type": "stream",
          "name": "stdout",
          "text": [
            "number of array longer than 200:  520\n",
            "number of array longer than 300:  0\n",
            "number of array longer than 400:  0\n"
          ]
        }
      ],
      "source": [
        "count1, count2, count3 = 0, 0, 0\n",
        "for i in sentences:\n",
        "    if len(i)>200:\n",
        "        count1+=1\n",
        "    if len(i)>300:\n",
        "        count2+=1\n",
        "    if len(i)>400:\n",
        "        count3+=1\n",
        "print('number of array longer than 200: ', count1)\n",
        "print('number of array longer than 300: ', count2)\n",
        "print('number of array longer than 400: ', count3)"
      ]
    },
    {
      "cell_type": "code",
      "execution_count": null,
      "metadata": {
        "colab": {
          "base_uri": "https://localhost:8080/"
        },
        "id": "tAn8oGj43nJE",
        "outputId": "90f31741-ed15-4ff2-cb3e-518ce50c1fd4"
      },
      "outputs": [
        {
          "output_type": "stream",
          "name": "stdout",
          "text": [
            "average token length:  56.386538461538464\n",
            "maximum token length:  58\n"
          ]
        }
      ],
      "source": [
        "from statistics import mean\n",
        "token_len = []\n",
        "for i in sentences:\n",
        "    if len(i)>200 and len(i)<300:\n",
        "        enc = tokenizer.encode(i)\n",
        "        token_len.append(len(enc))\n",
        "print('average token length: ', mean(token_len))\n",
        "print('maximum token length: ', max(token_len))"
      ]
    },
    {
      "cell_type": "markdown",
      "metadata": {
        "id": "6bY7IJhl3nJF"
      },
      "source": [
        "\n",
        "\n",
        "--output--\n",
        "average token length: 357\n",
        "maximum token length: 474\n"
      ]
    },
    {
      "cell_type": "code",
      "execution_count": null,
      "metadata": {
        "execution": {
          "iopub.execute_input": "2024-02-26T00:48:20.217297Z",
          "iopub.status.busy": "2024-02-26T00:48:20.216378Z",
          "iopub.status.idle": "2024-02-26T00:48:20.222692Z",
          "shell.execute_reply": "2024-02-26T00:48:20.221807Z",
          "shell.execute_reply.started": "2024-02-26T00:48:20.21725Z"
        },
        "colab": {
          "base_uri": "https://localhost:8080/"
        },
        "id": "VvSWnP4Y3nJF",
        "outputId": "a1a64c83-8ec0-4aef-e56d-8f8e51132343"
      },
      "outputs": [
        {
          "output_type": "stream",
          "name": "stdout",
          "text": [
            "number of sentence longer than 200 words: 0\n"
          ]
        }
      ],
      "source": [
        "count = 0\n",
        "for i in token_len:\n",
        "    if i > 500:\n",
        "        count+=1\n",
        "print('number of sentence longer than 200 words:', count)"
      ]
    },
    {
      "cell_type": "code",
      "execution_count": null,
      "metadata": {
        "colab": {
          "base_uri": "https://localhost:8080/"
        },
        "id": "HZy6gZwG3nJF",
        "outputId": "0b84e515-b7e9-41bb-b903-b76ee0186fb9"
      },
      "outputs": [
        {
          "output_type": "stream",
          "name": "stdout",
          "text": [
            "number of sentence longer than 270 words: 0\n"
          ]
        }
      ],
      "source": [
        "count = 0\n",
        "for i in token_len:\n",
        "    if i > 270:\n",
        "        count+=1\n",
        "print('number of sentence longer than 270 words:', count)"
      ]
    },
    {
      "cell_type": "markdown",
      "metadata": {
        "id": "IPRuTLzs3nJF"
      },
      "source": [
        "--output-- <br>\n",
        "number of sentence longer than 200 words: 0\n",
        "number of sentence longer than 270 words: 506"
      ]
    },
    {
      "cell_type": "code",
      "execution_count": null,
      "metadata": {
        "execution": {
          "iopub.execute_input": "2024-02-26T00:49:11.577013Z",
          "iopub.status.busy": "2024-02-26T00:49:11.576657Z",
          "iopub.status.idle": "2024-02-26T00:49:11.583372Z",
          "shell.execute_reply": "2024-02-26T00:49:11.582386Z",
          "shell.execute_reply.started": "2024-02-26T00:49:11.576987Z"
        },
        "id": "S5v1EAbT3nJG"
      },
      "outputs": [],
      "source": [
        "def bert_encode(data, max_len) :\n",
        "    input_ids = []\n",
        "    attention_masks = []\n",
        "\n",
        "\n",
        "    for i in range(len(data)):\n",
        "        encoded = tokenizer.encode_plus(data[i],\n",
        "                                        add_special_tokens=True,\n",
        "                                        max_length = max_len,\n",
        "                                        padding = 'max_length',\n",
        "                                        truncation = True,\n",
        "                                        return_attention_mask=True)\n",
        "\n",
        "        input_ids.append(encoded['input_ids'])\n",
        "        attention_masks.append(encoded['attention_mask'])\n",
        "\n",
        "    return np.array(input_ids),np.array(attention_masks)"
      ]
    },
    {
      "cell_type": "code",
      "execution_count": null,
      "metadata": {
        "execution": {
          "iopub.execute_input": "2024-02-26T00:50:51.521487Z",
          "iopub.status.busy": "2024-02-26T00:50:51.521122Z",
          "iopub.status.idle": "2024-02-26T00:50:51.526591Z",
          "shell.execute_reply": "2024-02-26T00:50:51.52554Z",
          "shell.execute_reply.started": "2024-02-26T00:50:51.521459Z"
        },
        "colab": {
          "base_uri": "https://localhost:8080/"
        },
        "id": "2qZRyStM3nJG",
        "outputId": "25b3247f-86ca-488e-fedb-3644a07ae573"
      },
      "outputs": [
        {
          "output_type": "stream",
          "name": "stdout",
          "text": [
            "520 416 52 52\n"
          ]
        }
      ],
      "source": [
        "print(len(sentences),len(trn_sentences),len(tst_sentences),len(val_sentences))"
      ]
    },
    {
      "cell_type": "code",
      "execution_count": null,
      "metadata": {
        "execution": {
          "iopub.execute_input": "2024-02-26T00:57:06.57805Z",
          "iopub.status.busy": "2024-02-26T00:57:06.577208Z",
          "iopub.status.idle": "2024-02-26T00:57:19.817395Z",
          "shell.execute_reply": "2024-02-26T00:57:19.816315Z",
          "shell.execute_reply.started": "2024-02-26T00:57:06.578018Z"
        },
        "id": "BCVa5lVO3nJG"
      },
      "outputs": [],
      "source": [
        "MAX_LEN = 270\n",
        "train_inputs, train_masks = bert_encode(trn_sentences,MAX_LEN)\n",
        "\n",
        "test_inputs, test_masks = bert_encode(tst_sentences,MAX_LEN)\n",
        "\n",
        "validation_inputs, validation_masks = bert_encode(val_sentences,MAX_LEN)"
      ]
    },
    {
      "cell_type": "markdown",
      "metadata": {
        "id": "JzERnwAW3nJG"
      },
      "source": [
        "## convert data to pytorch datatype"
      ]
    },
    {
      "cell_type": "code",
      "execution_count": null,
      "metadata": {
        "execution": {
          "iopub.execute_input": "2024-02-26T00:57:49.243011Z",
          "iopub.status.busy": "2024-02-26T00:57:49.242194Z",
          "iopub.status.idle": "2024-02-26T00:57:49.259902Z",
          "shell.execute_reply": "2024-02-26T00:57:49.259021Z",
          "shell.execute_reply.started": "2024-02-26T00:57:49.242978Z"
        },
        "id": "Hlrbpb_W3nJH"
      },
      "outputs": [],
      "source": [
        "# Convert data to tensors and immediately send to the device\n",
        "train_inputs = torch.tensor(train_inputs).to(device)\n",
        "validation_inputs = torch.tensor(validation_inputs).to(device)\n",
        "\n",
        "train_labels = torch.tensor(train_labels).to(device)\n",
        "validation_labels = torch.tensor(validation_labels).to(device)\n",
        "\n",
        "train_masks = torch.tensor(train_masks).to(device)\n",
        "validation_masks = torch.tensor(validation_masks).to(device)\n"
      ]
    },
    {
      "cell_type": "code",
      "execution_count": null,
      "metadata": {
        "execution": {
          "iopub.execute_input": "2024-02-26T00:58:14.091264Z",
          "iopub.status.busy": "2024-02-26T00:58:14.090871Z",
          "iopub.status.idle": "2024-02-26T00:58:14.09945Z",
          "shell.execute_reply": "2024-02-26T00:58:14.098381Z",
          "shell.execute_reply.started": "2024-02-26T00:58:14.091222Z"
        },
        "id": "HDHuoBV63nJH"
      },
      "outputs": [],
      "source": [
        "from torch.utils.data import TensorDataset, DataLoader, RandomSampler, SequentialSampler\n",
        "\n",
        "# The DataLoader needs to know our batch size for training, so we specify it\n",
        "# here.\n",
        "# For fine-tuning BERT on a specific task, the authors recommend a batch size of\n",
        "# 16 or 32.\n",
        "\n",
        "batch_size = 32\n",
        "\n",
        "# Create the DataLoader for our training set.\n",
        "train_data = TensorDataset(train_inputs, train_masks, train_labels)\n",
        "train_sampler = RandomSampler(train_data)\n",
        "train_dataloader = DataLoader(train_data, sampler=train_sampler, batch_size=batch_size)\n",
        "\n",
        "# Create the DataLoader for our validation set.\n",
        "validation_data = TensorDataset(validation_inputs, validation_masks, validation_labels)\n",
        "validation_sampler = SequentialSampler(validation_data)\n",
        "validation_dataloader = DataLoader(validation_data, sampler=validation_sampler, batch_size=batch_size)"
      ]
    },
    {
      "cell_type": "markdown",
      "metadata": {
        "id": "bH1LUbyo3nJI"
      },
      "source": [
        "# BERT for sequence classification"
      ]
    },
    {
      "cell_type": "code",
      "execution_count": null,
      "metadata": {
        "execution": {
          "iopub.execute_input": "2024-02-26T00:58:17.145841Z",
          "iopub.status.busy": "2024-02-26T00:58:17.144958Z",
          "iopub.status.idle": "2024-02-26T00:58:20.71677Z",
          "shell.execute_reply": "2024-02-26T00:58:20.715874Z",
          "shell.execute_reply.started": "2024-02-26T00:58:17.145805Z"
        },
        "colab": {
          "base_uri": "https://localhost:8080/"
        },
        "id": "iSdW-y4Z3nJI",
        "outputId": "8df198b1-02d5-44d7-a149-5b2fe69c599d"
      },
      "outputs": [
        {
          "output_type": "stream",
          "name": "stderr",
          "text": [
            "Some weights of BertForSequenceClassification were not initialized from the model checkpoint at dmis-lab/biobert-v1.1 and are newly initialized: ['classifier.bias', 'classifier.weight']\n",
            "You should probably TRAIN this model on a down-stream task to be able to use it for predictions and inference.\n"
          ]
        },
        {
          "output_type": "execute_result",
          "data": {
            "text/plain": [
              "BertForSequenceClassification(\n",
              "  (bert): BertModel(\n",
              "    (embeddings): BertEmbeddings(\n",
              "      (word_embeddings): Embedding(28996, 768, padding_idx=0)\n",
              "      (position_embeddings): Embedding(512, 768)\n",
              "      (token_type_embeddings): Embedding(2, 768)\n",
              "      (LayerNorm): LayerNorm((768,), eps=1e-12, elementwise_affine=True)\n",
              "      (dropout): Dropout(p=0.1, inplace=False)\n",
              "    )\n",
              "    (encoder): BertEncoder(\n",
              "      (layer): ModuleList(\n",
              "        (0-11): 12 x BertLayer(\n",
              "          (attention): BertAttention(\n",
              "            (self): BertSelfAttention(\n",
              "              (query): Linear(in_features=768, out_features=768, bias=True)\n",
              "              (key): Linear(in_features=768, out_features=768, bias=True)\n",
              "              (value): Linear(in_features=768, out_features=768, bias=True)\n",
              "              (dropout): Dropout(p=0.1, inplace=False)\n",
              "            )\n",
              "            (output): BertSelfOutput(\n",
              "              (dense): Linear(in_features=768, out_features=768, bias=True)\n",
              "              (LayerNorm): LayerNorm((768,), eps=1e-12, elementwise_affine=True)\n",
              "              (dropout): Dropout(p=0.1, inplace=False)\n",
              "            )\n",
              "          )\n",
              "          (intermediate): BertIntermediate(\n",
              "            (dense): Linear(in_features=768, out_features=3072, bias=True)\n",
              "            (intermediate_act_fn): GELUActivation()\n",
              "          )\n",
              "          (output): BertOutput(\n",
              "            (dense): Linear(in_features=3072, out_features=768, bias=True)\n",
              "            (LayerNorm): LayerNorm((768,), eps=1e-12, elementwise_affine=True)\n",
              "            (dropout): Dropout(p=0.1, inplace=False)\n",
              "          )\n",
              "        )\n",
              "      )\n",
              "    )\n",
              "    (pooler): BertPooler(\n",
              "      (dense): Linear(in_features=768, out_features=768, bias=True)\n",
              "      (activation): Tanh()\n",
              "    )\n",
              "  )\n",
              "  (dropout): Dropout(p=0.1, inplace=False)\n",
              "  (classifier): Linear(in_features=768, out_features=5, bias=True)\n",
              ")"
            ]
          },
          "metadata": {},
          "execution_count": 29
        }
      ],
      "source": [
        "# Model\n",
        "model = AutoModelForSequenceClassification.from_pretrained(\n",
        "    \"dmis-lab/biobert-v1.1\",\n",
        "    num_labels=5,\n",
        "    output_attentions=False,\n",
        "    output_hidden_states=False,\n",
        ")\n",
        "model.to(device)\n"
      ]
    },
    {
      "cell_type": "markdown",
      "metadata": {
        "id": "UTkz4cNY3nJI"
      },
      "source": [
        "## optimizer"
      ]
    },
    {
      "cell_type": "code",
      "execution_count": null,
      "metadata": {
        "execution": {
          "iopub.execute_input": "2024-02-26T00:58:26.585589Z",
          "iopub.status.busy": "2024-02-26T00:58:26.58521Z",
          "iopub.status.idle": "2024-02-26T00:58:26.592156Z",
          "shell.execute_reply": "2024-02-26T00:58:26.591133Z",
          "shell.execute_reply.started": "2024-02-26T00:58:26.58556Z"
        },
        "id": "8vmR1vGO3nJJ"
      },
      "outputs": [],
      "source": [
        "optimizer = torch.optim.AdamW(model.parameters(),\n",
        "                  lr = 5e-5, # args.learning_rate - default is 5e-5, our notebook had 2e-5\n",
        "                  eps = 1e-8) # args.adam_epsilon  - default is 1e-8."
      ]
    },
    {
      "cell_type": "code",
      "execution_count": null,
      "metadata": {
        "execution": {
          "iopub.execute_input": "2024-02-26T00:58:27.720601Z",
          "iopub.status.busy": "2024-02-26T00:58:27.720228Z",
          "iopub.status.idle": "2024-02-26T00:58:27.726061Z",
          "shell.execute_reply": "2024-02-26T00:58:27.724957Z",
          "shell.execute_reply.started": "2024-02-26T00:58:27.720573Z"
        },
        "id": "Pvspg0Nv3nJK"
      },
      "outputs": [],
      "source": [
        "from transformers import get_linear_schedule_with_warmup\n",
        "\n",
        "# Number of training epochs\n",
        "epochs = 30 #at least 20\n",
        "\n",
        "# Total number of training steps is number of batches * number of epochs.\n",
        "total_steps = len(train_dataloader) * epochs\n",
        "\n",
        "# Create the learning rate scheduler.\n",
        "scheduler = get_linear_schedule_with_warmup(optimizer,\n",
        "                                            num_warmup_steps = 0, # Default value in run_glue.py\n",
        "                                            num_training_steps = total_steps)"
      ]
    },
    {
      "cell_type": "markdown",
      "metadata": {
        "id": "mVZciCST3nJK"
      },
      "source": [
        "## training loop"
      ]
    },
    {
      "cell_type": "code",
      "execution_count": null,
      "metadata": {
        "execution": {
          "iopub.execute_input": "2024-02-26T00:58:30.315121Z",
          "iopub.status.busy": "2024-02-26T00:58:30.314289Z",
          "iopub.status.idle": "2024-02-26T00:58:30.320389Z",
          "shell.execute_reply": "2024-02-26T00:58:30.319393Z",
          "shell.execute_reply.started": "2024-02-26T00:58:30.315087Z"
        },
        "id": "-W_c2COT3nJK"
      },
      "outputs": [],
      "source": [
        "import numpy as np\n",
        "\n",
        "# Function to calculate the accuracy of our predictions vs labels\n",
        "def flat_accuracy(preds, labels):\n",
        "    pred_flat = np.argmax(preds, axis=1).flatten()\n",
        "    labels_flat = labels.flatten()\n",
        "    return np.sum(pred_flat == labels_flat) / len(labels_flat)"
      ]
    },
    {
      "cell_type": "code",
      "execution_count": null,
      "metadata": {
        "execution": {
          "iopub.execute_input": "2024-02-26T00:58:31.985037Z",
          "iopub.status.busy": "2024-02-26T00:58:31.984133Z",
          "iopub.status.idle": "2024-02-26T00:58:31.990222Z",
          "shell.execute_reply": "2024-02-26T00:58:31.989231Z",
          "shell.execute_reply.started": "2024-02-26T00:58:31.985001Z"
        },
        "id": "UJvqVijY3nJK"
      },
      "outputs": [],
      "source": [
        "import time\n",
        "import datetime\n",
        "\n",
        "def format_time(elapsed):\n",
        "    '''\n",
        "    Takes a time in seconds and returns a string hh:mm:ss\n",
        "    '''\n",
        "    # Round to the nearest second.\n",
        "    elapsed_rounded = int(round((elapsed)))\n",
        "\n",
        "    # Format as hh:mm:ss\n",
        "    return str(datetime.timedelta(seconds=elapsed_rounded))"
      ]
    },
    {
      "cell_type": "code",
      "execution_count": null,
      "metadata": {
        "execution": {
          "iopub.execute_input": "2024-02-26T00:58:33.85104Z",
          "iopub.status.busy": "2024-02-26T00:58:33.850701Z",
          "iopub.status.idle": "2024-02-26T01:06:41.778838Z",
          "shell.execute_reply": "2024-02-26T01:06:41.777718Z",
          "shell.execute_reply.started": "2024-02-26T00:58:33.851015Z"
        },
        "colab": {
          "base_uri": "https://localhost:8080/"
        },
        "id": "7JnkoApF3nJK",
        "outputId": "c202e2f3-ff87-4c0a-cda2-ffc48f30856f"
      },
      "outputs": [
        {
          "output_type": "stream",
          "name": "stdout",
          "text": [
            "\n",
            "======== Epoch 1 / 30 ========\n",
            "Training...\n",
            "\n",
            "  Average training loss: 1.52\n",
            "  Training epcoh took: 0:00:20\n",
            "\n",
            "Running Validation...\n",
            "  Accuracy: 0.34\n",
            "  Validation took: 0:00:02\n",
            "\n",
            "======== Epoch 2 / 30 ========\n",
            "Training...\n",
            "\n",
            "  Average training loss: 1.48\n",
            "  Training epcoh took: 0:00:18\n",
            "\n",
            "Running Validation...\n",
            "  Accuracy: 0.33\n",
            "  Validation took: 0:00:02\n",
            "\n",
            "======== Epoch 3 / 30 ========\n",
            "Training...\n",
            "\n",
            "  Average training loss: 1.49\n",
            "  Training epcoh took: 0:00:18\n",
            "\n",
            "Running Validation...\n",
            "  Accuracy: 0.34\n",
            "  Validation took: 0:00:02\n",
            "\n",
            "======== Epoch 4 / 30 ========\n",
            "Training...\n",
            "\n",
            "  Average training loss: 1.44\n",
            "  Training epcoh took: 0:00:18\n",
            "\n",
            "Running Validation...\n",
            "  Accuracy: 0.35\n",
            "  Validation took: 0:00:02\n",
            "\n",
            "======== Epoch 5 / 30 ========\n",
            "Training...\n",
            "\n",
            "  Average training loss: 1.43\n",
            "  Training epcoh took: 0:00:18\n",
            "\n",
            "Running Validation...\n",
            "  Accuracy: 0.38\n",
            "  Validation took: 0:00:02\n",
            "\n",
            "======== Epoch 6 / 30 ========\n",
            "Training...\n",
            "\n",
            "  Average training loss: 1.39\n",
            "  Training epcoh took: 0:00:18\n",
            "\n",
            "Running Validation...\n",
            "  Accuracy: 0.36\n",
            "  Validation took: 0:00:02\n",
            "\n",
            "======== Epoch 7 / 30 ========\n",
            "Training...\n",
            "\n",
            "  Average training loss: 1.38\n",
            "  Training epcoh took: 0:00:18\n",
            "\n",
            "Running Validation...\n",
            "  Accuracy: 0.30\n",
            "  Validation took: 0:00:02\n",
            "\n",
            "======== Epoch 8 / 30 ========\n",
            "Training...\n",
            "\n",
            "  Average training loss: 1.36\n",
            "  Training epcoh took: 0:00:18\n",
            "\n",
            "Running Validation...\n",
            "  Accuracy: 0.39\n",
            "  Validation took: 0:00:02\n",
            "\n",
            "======== Epoch 9 / 30 ========\n",
            "Training...\n",
            "\n",
            "  Average training loss: 1.37\n",
            "  Training epcoh took: 0:00:18\n",
            "\n",
            "Running Validation...\n",
            "  Accuracy: 0.43\n",
            "  Validation took: 0:00:02\n",
            "\n",
            "======== Epoch 10 / 30 ========\n",
            "Training...\n",
            "\n",
            "  Average training loss: 1.34\n",
            "  Training epcoh took: 0:00:18\n",
            "\n",
            "Running Validation...\n",
            "  Accuracy: 0.41\n",
            "  Validation took: 0:00:02\n",
            "\n",
            "======== Epoch 11 / 30 ========\n",
            "Training...\n",
            "\n",
            "  Average training loss: 1.34\n",
            "  Training epcoh took: 0:00:18\n",
            "\n",
            "Running Validation...\n",
            "  Accuracy: 0.40\n",
            "  Validation took: 0:00:02\n",
            "\n",
            "======== Epoch 12 / 30 ========\n",
            "Training...\n",
            "\n",
            "  Average training loss: 1.32\n",
            "  Training epcoh took: 0:00:18\n",
            "\n",
            "Running Validation...\n",
            "  Accuracy: 0.43\n",
            "  Validation took: 0:00:02\n",
            "\n",
            "======== Epoch 13 / 30 ========\n",
            "Training...\n",
            "\n",
            "  Average training loss: 1.33\n",
            "  Training epcoh took: 0:00:18\n",
            "\n",
            "Running Validation...\n",
            "  Accuracy: 0.46\n",
            "  Validation took: 0:00:02\n",
            "\n",
            "======== Epoch 14 / 30 ========\n",
            "Training...\n",
            "\n",
            "  Average training loss: 1.32\n",
            "  Training epcoh took: 0:00:18\n",
            "\n",
            "Running Validation...\n",
            "  Accuracy: 0.43\n",
            "  Validation took: 0:00:02\n",
            "\n",
            "======== Epoch 15 / 30 ========\n",
            "Training...\n",
            "\n",
            "  Average training loss: 1.32\n",
            "  Training epcoh took: 0:00:18\n",
            "\n",
            "Running Validation...\n",
            "  Accuracy: 0.36\n",
            "  Validation took: 0:00:02\n",
            "\n",
            "======== Epoch 16 / 30 ========\n",
            "Training...\n",
            "\n",
            "  Average training loss: 1.29\n",
            "  Training epcoh took: 0:00:18\n",
            "\n",
            "Running Validation...\n",
            "  Accuracy: 0.36\n",
            "  Validation took: 0:00:02\n",
            "\n",
            "======== Epoch 17 / 30 ========\n",
            "Training...\n",
            "\n",
            "  Average training loss: 1.28\n",
            "  Training epcoh took: 0:00:18\n",
            "\n",
            "Running Validation...\n",
            "  Accuracy: 0.40\n",
            "  Validation took: 0:00:02\n",
            "\n",
            "======== Epoch 18 / 30 ========\n",
            "Training...\n",
            "\n",
            "  Average training loss: 1.26\n",
            "  Training epcoh took: 0:00:18\n",
            "\n",
            "Running Validation...\n",
            "  Accuracy: 0.39\n",
            "  Validation took: 0:00:02\n",
            "\n",
            "======== Epoch 19 / 30 ========\n",
            "Training...\n",
            "\n",
            "  Average training loss: 1.25\n",
            "  Training epcoh took: 0:00:18\n",
            "\n",
            "Running Validation...\n",
            "  Accuracy: 0.37\n",
            "  Validation took: 0:00:02\n",
            "\n",
            "======== Epoch 20 / 30 ========\n",
            "Training...\n",
            "\n",
            "  Average training loss: 1.24\n",
            "  Training epcoh took: 0:00:18\n",
            "\n",
            "Running Validation...\n",
            "  Accuracy: 0.37\n",
            "  Validation took: 0:00:02\n",
            "\n",
            "======== Epoch 21 / 30 ========\n",
            "Training...\n",
            "\n",
            "  Average training loss: 1.22\n",
            "  Training epcoh took: 0:00:18\n",
            "\n",
            "Running Validation...\n",
            "  Accuracy: 0.32\n",
            "  Validation took: 0:00:02\n",
            "\n",
            "======== Epoch 22 / 30 ========\n",
            "Training...\n",
            "\n",
            "  Average training loss: 1.21\n",
            "  Training epcoh took: 0:00:18\n",
            "\n",
            "Running Validation...\n",
            "  Accuracy: 0.43\n",
            "  Validation took: 0:00:02\n",
            "\n",
            "======== Epoch 23 / 30 ========\n",
            "Training...\n",
            "\n",
            "  Average training loss: 1.20\n",
            "  Training epcoh took: 0:00:18\n",
            "\n",
            "Running Validation...\n",
            "  Accuracy: 0.36\n",
            "  Validation took: 0:00:02\n",
            "\n",
            "======== Epoch 24 / 30 ========\n",
            "Training...\n",
            "\n",
            "  Average training loss: 1.17\n",
            "  Training epcoh took: 0:00:18\n",
            "\n",
            "Running Validation...\n",
            "  Accuracy: 0.35\n",
            "  Validation took: 0:00:02\n",
            "\n",
            "======== Epoch 25 / 30 ========\n",
            "Training...\n",
            "\n",
            "  Average training loss: 1.15\n",
            "  Training epcoh took: 0:00:18\n",
            "\n",
            "Running Validation...\n",
            "  Accuracy: 0.38\n",
            "  Validation took: 0:00:02\n",
            "\n",
            "======== Epoch 26 / 30 ========\n",
            "Training...\n",
            "\n",
            "  Average training loss: 1.15\n",
            "  Training epcoh took: 0:00:18\n",
            "\n",
            "Running Validation...\n",
            "  Accuracy: 0.34\n",
            "  Validation took: 0:00:02\n",
            "\n",
            "======== Epoch 27 / 30 ========\n",
            "Training...\n",
            "\n",
            "  Average training loss: 1.12\n",
            "  Training epcoh took: 0:00:18\n",
            "\n",
            "Running Validation...\n",
            "  Accuracy: 0.36\n",
            "  Validation took: 0:00:02\n",
            "\n",
            "======== Epoch 28 / 30 ========\n",
            "Training...\n",
            "\n",
            "  Average training loss: 1.11\n",
            "  Training epcoh took: 0:00:18\n",
            "\n",
            "Running Validation...\n",
            "  Accuracy: 0.31\n",
            "  Validation took: 0:00:02\n",
            "\n",
            "======== Epoch 29 / 30 ========\n",
            "Training...\n",
            "\n",
            "  Average training loss: 1.09\n",
            "  Training epcoh took: 0:00:18\n",
            "\n",
            "Running Validation...\n",
            "  Accuracy: 0.31\n",
            "  Validation took: 0:00:02\n",
            "\n",
            "======== Epoch 30 / 30 ========\n",
            "Training...\n",
            "\n",
            "  Average training loss: 1.10\n",
            "  Training epcoh took: 0:00:18\n",
            "\n",
            "Running Validation...\n",
            "  Accuracy: 0.31\n",
            "  Validation took: 0:00:02\n",
            "\n",
            "Training complete!\n"
          ]
        }
      ],
      "source": [
        "import random\n",
        "\n",
        "# This training code is based on the `run_glue.py` script here:\n",
        "# https://github.com/huggingface/transformers/blob/5bfcd0485ece086ebcbed2d008813037968a9e58/examples/run_glue.py#L128\n",
        "\n",
        "\n",
        "# Set the seed value all over the place to make this reproducible.\n",
        "seed_val = 42\n",
        "\n",
        "random.seed(seed_val)\n",
        "np.random.seed(seed_val)\n",
        "torch.manual_seed(seed_val)\n",
        "torch.cuda.manual_seed_all(seed_val)\n",
        "\n",
        "# Store the average loss after each epoch so we can plot them.\n",
        "loss_values = []\n",
        "\n",
        "# For each epoch...\n",
        "for epoch_i in range(0, epochs):\n",
        "\n",
        "    # ========================================\n",
        "    #               Training\n",
        "    # ========================================\n",
        "\n",
        "    # Perform one full pass over the training set.\n",
        "\n",
        "    print(\"\")\n",
        "    print('======== Epoch {:} / {:} ========'.format(epoch_i + 1, epochs))\n",
        "    print('Training...')\n",
        "\n",
        "    # Measure how long the training epoch takes.\n",
        "    t0 = time.time()\n",
        "\n",
        "    # Reset the total loss for this epoch.\n",
        "    total_loss = 0\n",
        "\n",
        "    # Put the model into training mode. Don't be mislead--the call to\n",
        "    # `train` just changes the *mode*, it doesn't *perform* the training.\n",
        "    # `dropout` and `batchnorm` layers behave differently during training\n",
        "    # vs. test (source: https://stackoverflow.com/questions/51433378/what-does-model-train-do-in-pytorch)\n",
        "    model.train()\n",
        "\n",
        "    # For each batch of training data...\n",
        "    for step, batch in enumerate(train_dataloader):\n",
        "\n",
        "        # Progress update every 40 batches.\n",
        "        if step % 40 == 0 and not step == 0:\n",
        "            # Calculate elapsed time in minutes.\n",
        "            elapsed = format_time(time.time() - t0)\n",
        "\n",
        "            # Report progress.\n",
        "            print('  Batch {:>5,}  of  {:>5,}.    Elapsed: {:}.'.format(step, len(train_dataloader), elapsed))\n",
        "\n",
        "        # Unpack this training batch from our dataloader.\n",
        "        #\n",
        "        # As we unpack the batch, we'll also copy each tensor to the GPU using the\n",
        "        # `to` method.\n",
        "        #\n",
        "        # `batch` contains three pytorch tensors:\n",
        "        #   [0]: input ids\n",
        "        #   [1]: attention masks\n",
        "        #   [2]: labels\n",
        "        b_input_ids = batch[0].to(device)\n",
        "        b_input_mask = batch[1].to(device)\n",
        "        b_labels = batch[2].to(device)\n",
        "\n",
        "        # Always clear any previously calculated gradients before performing a\n",
        "        # backward pass. PyTorch doesn't do this automatically because\n",
        "        # accumulating the gradients is \"convenient while training RNNs\".\n",
        "        # (source: https://stackoverflow.com/questions/48001598/why-do-we-need-to-call-zero-grad-in-pytorch)\n",
        "        model.zero_grad()\n",
        "\n",
        "        # Perform a forward pass (evaluate the model on this training batch).\n",
        "        # This will return the loss (rather than the model output) because we\n",
        "        # have provided the `labels`.\n",
        "        # The documentation for this `model` function is here:\n",
        "        # https://huggingface.co/transformers/v2.2.0/model_doc/bert.html#transformers.BertForSequenceClassification\n",
        "        outputs = model(b_input_ids,\n",
        "                    token_type_ids=None,\n",
        "                    attention_mask=b_input_mask,\n",
        "                    labels=b_labels)\n",
        "\n",
        "        # The call to `model` always returns a tuple, so we need to pull the\n",
        "        # loss value out of the tuple.\n",
        "        loss = outputs[0]\n",
        "\n",
        "        # Accumulate the training loss over all of the batches so that we can\n",
        "        # calculate the average loss at the end. `loss` is a Tensor containing a\n",
        "        # single value; the `.item()` function just returns the Python value\n",
        "        # from the tensor.\n",
        "        total_loss += loss.item()\n",
        "\n",
        "        # Perform a backward pass to calculate the gradients.\n",
        "        loss.backward()\n",
        "\n",
        "        # Clip the norm of the gradients to 1.0.\n",
        "        # This is to help prevent the \"exploding gradients\" problem.\n",
        "        torch.nn.utils.clip_grad_norm_(model.parameters(), 1.0)\n",
        "\n",
        "        # Update parameters and take a step using the computed gradient.\n",
        "        # The optimizer dictates the \"update rule\"--how the parameters are\n",
        "        # modified based on their gradients, the learning rate, etc.\n",
        "        optimizer.step()\n",
        "\n",
        "        # Update the learning rate.\n",
        "        scheduler.step()\n",
        "\n",
        "    # Calculate the average loss over the training data.\n",
        "    avg_train_loss = total_loss / len(train_dataloader)\n",
        "\n",
        "    # Store the loss value for plotting the learning curve.\n",
        "    loss_values.append(avg_train_loss)\n",
        "\n",
        "    print(\"\")\n",
        "    print(\"  Average training loss: {0:.2f}\".format(avg_train_loss))\n",
        "    print(\"  Training epcoh took: {:}\".format(format_time(time.time() - t0)))\n",
        "\n",
        "    # ========================================\n",
        "    #               Validation\n",
        "    # ========================================\n",
        "    # After the completion of each training epoch, measure our performance on\n",
        "    # our validation set.\n",
        "\n",
        "    print(\"\")\n",
        "    print(\"Running Validation...\")\n",
        "\n",
        "    t0 = time.time()\n",
        "\n",
        "    # Put the model in evaluation mode--the dropout layers behave differently\n",
        "    # during evaluation.\n",
        "    model.eval()\n",
        "\n",
        "    # Tracking variables\n",
        "    eval_loss, eval_accuracy = 0, 0\n",
        "    nb_eval_steps, nb_eval_examples = 0, 0\n",
        "\n",
        "    # Evaluate data for one epoch\n",
        "    for batch in validation_dataloader:\n",
        "\n",
        "        # Add batch to GPU\n",
        "        batch = tuple(t.to(device) for t in batch)\n",
        "\n",
        "        # Unpack the inputs from our dataloader\n",
        "        b_input_ids, b_input_mask, b_labels = batch\n",
        "\n",
        "        # Telling the model not to compute or store gradients, saving memory and\n",
        "        # speeding up validation\n",
        "        with torch.no_grad():\n",
        "\n",
        "            # Forward pass, calculate logit predictions.\n",
        "            # This will return the logits rather than the loss because we have\n",
        "            # not provided labels.\n",
        "            # token_type_ids is the same as the \"segment ids\", which\n",
        "            # differentiates sentence 1 and 2 in 2-sentence tasks.\n",
        "            # The documentation for this `model` function is here:\n",
        "            # https://huggingface.co/transformers/v2.2.0/model_doc/bert.html#transformers.BertForSequenceClassification\n",
        "            outputs = model(b_input_ids,\n",
        "                            token_type_ids=None,\n",
        "                            attention_mask=b_input_mask)\n",
        "\n",
        "        # Get the \"logits\" output by the model. The \"logits\" are the output\n",
        "        # values prior to applying an activation function like the softmax.\n",
        "        logits = outputs[0]\n",
        "\n",
        "        # Move logits and labels to CPU\n",
        "        logits = logits.detach().cpu().numpy()\n",
        "        label_ids = b_labels.to('cpu').numpy()\n",
        "\n",
        "        # Calculate the accuracy for this batch of test sentences.\n",
        "        tmp_eval_accuracy = flat_accuracy(logits, label_ids)\n",
        "\n",
        "        # Accumulate the total accuracy.\n",
        "        eval_accuracy += tmp_eval_accuracy\n",
        "\n",
        "        # Track the number of batches\n",
        "        nb_eval_steps += 1\n",
        "\n",
        "    # Report the final accuracy for this validation run.\n",
        "    print(\"  Accuracy: {0:.2f}\".format(eval_accuracy/nb_eval_steps))\n",
        "    print(\"  Validation took: {:}\".format(format_time(time.time() - t0)))\n",
        "\n",
        "print(\"\")\n",
        "print(\"Training complete!\")"
      ]
    },
    {
      "cell_type": "code",
      "execution_count": null,
      "metadata": {
        "execution": {
          "iopub.execute_input": "2024-02-26T01:07:50.114775Z",
          "iopub.status.busy": "2024-02-26T01:07:50.11403Z",
          "iopub.status.idle": "2024-02-26T01:07:50.523482Z",
          "shell.execute_reply": "2024-02-26T01:07:50.522565Z",
          "shell.execute_reply.started": "2024-02-26T01:07:50.114743Z"
        },
        "colab": {
          "base_uri": "https://localhost:8080/",
          "height": 592
        },
        "id": "gvMPBWn63nJL",
        "outputId": "f5f7ccf8-b87c-4e04-8924-e5d85a6fe433"
      },
      "outputs": [
        {
          "output_type": "display_data",
          "data": {
            "text/plain": [
              "<Figure size 1200x600 with 1 Axes>"
            ],
            "image/png": "[encoded data removed]"
          },
          "metadata": {}
        }
      ],
      "source": [
        "import matplotlib.pyplot as plt\n",
        "%matplotlib inline\n",
        "\n",
        "import seaborn as sns\n",
        "\n",
        "# Use plot styling from seaborn.\n",
        "sns.set(style='darkgrid')\n",
        "\n",
        "# Increase the plot size and font size.\n",
        "sns.set(font_scale=1.5)\n",
        "plt.rcParams[\"figure.figsize\"] = (12,6)\n",
        "\n",
        "# Plot the learning curve.\n",
        "plt.plot(loss_values, 'b-o')\n",
        "\n",
        "# Label the plot.\n",
        "plt.title(\"Training loss\")\n",
        "plt.xlabel(\"Epoch\")\n",
        "plt.ylabel(\"Loss\")\n",
        "\n",
        "plt.show()"
      ]
    },
    {
      "cell_type": "markdown",
      "metadata": {
        "id": "oMVBSvwl3nJL"
      },
      "source": [
        "# On test set"
      ]
    },
    {
      "cell_type": "code",
      "execution_count": null,
      "metadata": {
        "execution": {
          "iopub.execute_input": "2024-02-26T01:09:56.103426Z",
          "iopub.status.busy": "2024-02-26T01:09:56.10211Z",
          "iopub.status.idle": "2024-02-26T01:09:57.564278Z",
          "shell.execute_reply": "2024-02-26T01:09:57.563483Z",
          "shell.execute_reply.started": "2024-02-26T01:09:56.103384Z"
        },
        "scrolled": true,
        "id": "BVD61srg3nJL"
      },
      "outputs": [],
      "source": [
        "test_inputs, test_masks = bert_encode(tst_sentences,MAX_LEN)\n",
        "\n",
        "# Convert to tensors.\n",
        "prediction_inputs = torch.tensor(test_inputs)\n",
        "prediction_masks = torch.tensor(test_masks)\n",
        "prediction_labels = torch.tensor(test_labels)\n",
        "\n",
        "# Set the batch size.\n",
        "batch_size = 32\n",
        "\n",
        "# Create the DataLoader.\n",
        "prediction_data = TensorDataset(prediction_inputs, prediction_masks, prediction_labels)\n",
        "prediction_sampler = SequentialSampler(prediction_data)\n",
        "prediction_dataloader = DataLoader(prediction_data, sampler=prediction_sampler, batch_size=batch_size)"
      ]
    },
    {
      "cell_type": "code",
      "execution_count": null,
      "metadata": {
        "execution": {
          "iopub.execute_input": "2024-02-26T01:10:17.440185Z",
          "iopub.status.busy": "2024-02-26T01:10:17.439548Z",
          "iopub.status.idle": "2024-02-26T01:10:21.704511Z",
          "shell.execute_reply": "2024-02-26T01:10:21.703555Z",
          "shell.execute_reply.started": "2024-02-26T01:10:17.440153Z"
        },
        "colab": {
          "base_uri": "https://localhost:8080/"
        },
        "id": "pLRT_pEE3nJM",
        "outputId": "f4c51c69-2195-4b6f-bd61-a3382a15075e"
      },
      "outputs": [
        {
          "output_type": "stream",
          "name": "stdout",
          "text": [
            "Predicting labels for 52 test sentences...\n",
            "    DONE.\n"
          ]
        }
      ],
      "source": [
        "# Prediction on test set\n",
        "\n",
        "print('Predicting labels for {:,} test sentences...'.format(len(prediction_inputs)))\n",
        "\n",
        "# Put model in evaluation mode\n",
        "model.eval()\n",
        "\n",
        "# Tracking variables\n",
        "predictions , true_labels = [], []\n",
        "\n",
        "# Predict\n",
        "for batch in prediction_dataloader:\n",
        "  # Add batch to GPU\n",
        "  batch = tuple(t.to(device) for t in batch)\n",
        "\n",
        "  # Unpack the inputs from our dataloader\n",
        "  b_input_ids, b_input_mask, b_labels = batch\n",
        "\n",
        "  # Telling the model not to compute or store gradients, saving memory and\n",
        "  # speeding up prediction\n",
        "  with torch.no_grad():\n",
        "      # Forward pass, calculate logit predictions\n",
        "      outputs = model(b_input_ids, token_type_ids=None,\n",
        "                      attention_mask=b_input_mask)\n",
        "\n",
        "  logits = outputs[0]\n",
        "\n",
        "  # Move logits and labels to CPU\n",
        "  logits = logits.detach().cpu().numpy()\n",
        "  label_ids = b_labels.to('cpu').numpy()\n",
        "\n",
        "  # Store predictions and true labels\n",
        "  predictions.append(logits)\n",
        "  true_labels.append(label_ids)\n",
        "\n",
        "print('    DONE.')"
      ]
    },
    {
      "cell_type": "markdown",
      "metadata": {
        "id": "qu7ZxHCw3nJM"
      },
      "source": [
        "## Matthew's correlation coefficient\n",
        "https://scikit-learn.org/stable/modules/generated/sklearn.metrics.matthews_corrcoef.html"
      ]
    },
    {
      "cell_type": "code",
      "execution_count": null,
      "metadata": {
        "execution": {
          "iopub.execute_input": "2024-02-26T01:12:29.49542Z",
          "iopub.status.busy": "2024-02-26T01:12:29.494666Z",
          "iopub.status.idle": "2024-02-26T01:12:29.600565Z",
          "shell.execute_reply": "2024-02-26T01:12:29.599636Z",
          "shell.execute_reply.started": "2024-02-26T01:12:29.495381Z"
        },
        "id": "PQWD91a23nJM"
      },
      "outputs": [],
      "source": [
        "from sklearn.metrics import matthews_corrcoef\n",
        "\n",
        "matthews_set = []\n",
        "\n",
        "# Evaluate each test batch using Matthew's correlation coefficient\n",
        "# For each input batch...\n",
        "for i in range(len(true_labels)):\n",
        "\n",
        "  # The predictions for this batch are a 3-column ndarray (one column for \"0\"\n",
        "  # one for \"1\" and one for \"2\"). Pick the label with the highest value and turn this\n",
        "  # in to a list of 0s, 1s, 2s.\n",
        "  pred_labels_i = np.argmax(predictions[i], axis=1).flatten()\n",
        "\n",
        "  # Calculate and store the coef for this batch.\n",
        "  matthews = matthews_corrcoef(true_labels[i], pred_labels_i)\n",
        "  matthews_set.append(matthews)"
      ]
    },
    {
      "cell_type": "code",
      "execution_count": null,
      "metadata": {
        "execution": {
          "iopub.execute_input": "2024-02-26T01:30:26.852225Z",
          "iopub.status.busy": "2024-02-26T01:30:26.851844Z",
          "iopub.status.idle": "2024-02-26T01:30:26.86691Z",
          "shell.execute_reply": "2024-02-26T01:30:26.86573Z",
          "shell.execute_reply.started": "2024-02-26T01:30:26.852196Z"
        },
        "colab": {
          "base_uri": "https://localhost:8080/"
        },
        "id": "ZyzfTBup3nJM",
        "outputId": "be06f2f5-8d9a-4527-b177-5ee421c5e819"
      },
      "outputs": [
        {
          "output_type": "stream",
          "name": "stdout",
          "text": [
            "MCC: 0.120\n"
          ]
        }
      ],
      "source": [
        "# Combine the predictions for each batch into a single list of 0s,1s, 2s.\n",
        "flat_predictions = [item for sublist in predictions for item in sublist]\n",
        "flat_predictions = np.argmax(flat_predictions, axis=1).flatten()\n",
        "\n",
        "# Combine the correct labels for each batch into a single list.\n",
        "flat_true_labels = [item for sublist in true_labels for item in sublist]\n",
        "\n",
        "# Calculate accuracy\n",
        "\n",
        "# Calculate the MCC\n",
        "mcc = matthews_corrcoef(flat_true_labels, flat_predictions)\n",
        "\n",
        "print('MCC: %.3f' % mcc)"
      ]
    },
    {
      "cell_type": "code",
      "source": [
        "from sklearn.metrics import accuracy_score\n",
        "# Calculate accuracy\n",
        "accuracy = accuracy_score(flat_true_labels, flat_predictions)\n",
        "print(f\"Accuracy: {accuracy:.3f}\")"
      ],
      "metadata": {
        "colab": {
          "base_uri": "https://localhost:8080/"
        },
        "id": "wDf6OQ91p12O",
        "outputId": "e09c8e9d-70b7-4335-f47c-5f6fd033fc09"
      },
      "execution_count": null,
      "outputs": [
        {
          "output_type": "stream",
          "name": "stdout",
          "text": [
            "Accuracy: 0.365\n"
          ]
        }
      ]
    },
    {
      "cell_type": "markdown",
      "metadata": {
        "id": "v2dvhg1q3nJN"
      },
      "source": [
        "## confusion matrix"
      ]
    },
    {
      "cell_type": "code",
      "execution_count": null,
      "metadata": {
        "execution": {
          "iopub.execute_input": "2024-02-26T01:31:25.653046Z",
          "iopub.status.busy": "2024-02-26T01:31:25.652164Z",
          "iopub.status.idle": "2024-02-26T01:31:25.669784Z",
          "shell.execute_reply": "2024-02-26T01:31:25.668863Z",
          "shell.execute_reply.started": "2024-02-26T01:31:25.653013Z"
        },
        "colab": {
          "base_uri": "https://localhost:8080/"
        },
        "id": "pmchsdRC3nJN",
        "outputId": "fb31a7e9-ad41-4509-8766-ba90fa1ee133"
      },
      "outputs": [
        {
          "output_type": "stream",
          "name": "stdout",
          "text": [
            "              precision    recall  f1-score   support\n",
            "\n",
            "           0       0.42      0.40      0.41        20\n",
            "           1       0.44      0.53      0.48        15\n",
            "           2       0.18      0.25      0.21         8\n",
            "           3       0.00      0.00      0.00         7\n",
            "           4       0.50      0.50      0.50         2\n",
            "\n",
            "    accuracy                           0.37        52\n",
            "   macro avg       0.31      0.34      0.32        52\n",
            "weighted avg       0.34      0.37      0.35        52\n",
            "\n"
          ]
        }
      ],
      "source": [
        "from sklearn.metrics import classification_report\n",
        "print(classification_report(test_labels, flat_predictions))"
      ]
    },
    {
      "cell_type": "code",
      "source": [],
      "metadata": {
        "id": "XCT3yo7WDaDJ"
      },
      "execution_count": null,
      "outputs": []
    }
  ]
}