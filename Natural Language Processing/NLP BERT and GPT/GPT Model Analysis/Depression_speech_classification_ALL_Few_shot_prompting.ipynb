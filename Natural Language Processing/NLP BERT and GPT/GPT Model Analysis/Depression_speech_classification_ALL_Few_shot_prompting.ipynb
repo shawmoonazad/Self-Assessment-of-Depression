{
  "nbformat": 4,
  "nbformat_minor": 0,
  "metadata": {
    "colab": {
      "provenance": [],
      "gpuType": "T4"
    },
    "kernelspec": {
      "name": "python3",
      "display_name": "Python 3"
    },
    "language_info": {
      "name": "python"
    },
    "accelerator": "GPU"
  },
  "cells": [
    {
      "cell_type": "code",
      "source": [
        "import numpy as np\n",
        "import pandas as pd\n",
        "import os, re\n",
        "\n",
        "import matplotlib.pyplot as plt\n",
        "from torch.utils.data import Dataset, DataLoader\n",
        "import torch\n",
        "from transformers import GPT2LMHeadModel, GPT2Tokenizer, get_linear_schedule_with_warmup\n",
        "from torch.optim import AdamW\n",
        "from sklearn.metrics import classification_report\n",
        "from sklearn.model_selection import train_test_split"
      ],
      "metadata": {
        "id": "tN7PojUe4vlK"
      },
      "execution_count": null,
      "outputs": []
    },
    {
      "cell_type": "code",
      "source": [
        "# Check device\n",
        "device = torch.device(\"cuda\" if torch.cuda.is_available() else \"cpu\")\n",
        "print(\"Using device:\", device)\n",
        "if device.type == 'cuda':\n",
        "    print(torch.cuda.get_device_name(0))"
      ],
      "metadata": {
        "colab": {
          "base_uri": "https://localhost:8080/"
        },
        "id": "yTqc6Mfu5C7t",
        "outputId": "d31c017a-35a1-427c-f902-cc25a100a664"
      },
      "execution_count": null,
      "outputs": [
        {
          "output_type": "stream",
          "name": "stdout",
          "text": [
            "Using device: cuda\n",
            "Tesla T4\n"
          ]
        }
      ]
    },
    {
      "cell_type": "code",
      "source": [
        "# Load data\n",
        "df = pd.read_excel('PHQ9DepressionNLP_elaborated.xlsx')\n",
        "print('Number of training sentences: {:,}\\n'.format(df.shape[0]))"
      ],
      "metadata": {
        "colab": {
          "base_uri": "https://localhost:8080/"
        },
        "id": "06O4Z-GG5BAg",
        "outputId": "0ab1af0e-4d25-4cc9-fb4d-09a67258e241"
      },
      "execution_count": null,
      "outputs": [
        {
          "output_type": "stream",
          "name": "stdout",
          "text": [
            "Number of training sentences: 520\n",
            "\n"
          ]
        }
      ]
    },
    {
      "cell_type": "code",
      "source": [
        "# Concatenate the descriptions and store them in a new column 'statements'\n",
        "df['statements'] = df.apply(lambda row: ' '.join([str(row['PHQDescription']),\n",
        "                                                  str(row['ViolenceDescription']),\n",
        "                                                  str(row['PressureDescription']),\n",
        "                                                  str(row['SocialDescription']),\n",
        "                                                  str(row['AcademicDescription'])]), axis=1)\n"
      ],
      "metadata": {
        "id": "-UtiTEi_4_nt"
      },
      "execution_count": null,
      "outputs": []
    },
    {
      "cell_type": "code",
      "source": [
        "# Initialize GPT-2 tokenizer and model\n",
        "tokenizer = GPT2Tokenizer.from_pretrained('gpt2')\n",
        "tokenizer.pad_token = tokenizer.eos_token\n",
        "model = GPT2LMHeadModel.from_pretrained('gpt2')\n",
        "model = model.to(device)"
      ],
      "metadata": {
        "colab": {
          "base_uri": "https://localhost:8080/"
        },
        "id": "CEN5oivb4-Rn",
        "outputId": "8806a5e6-c95e-46ad-b8a4-ad3d9314b2d0"
      },
      "execution_count": null,
      "outputs": [
        {
          "output_type": "stream",
          "name": "stderr",
          "text": [
            "/usr/local/lib/python3.10/dist-packages/huggingface_hub/utils/_token.py:89: UserWarning: \n",
            "The secret `HF_TOKEN` does not exist in your Colab secrets.\n",
            "To authenticate with the Hugging Face Hub, create a token in your settings tab (https://huggingface.co/settings/tokens), set it as secret in your Google Colab and restart your session.\n",
            "You will be able to reuse this secret in all of your notebooks.\n",
            "Please note that authentication is recommended but still optional to access public models or datasets.\n",
            "  warnings.warn(\n"
          ]
        }
      ]
    },
    {
      "cell_type": "code",
      "source": [
        "# Define the few-shot examples\n",
        "few_shot_examples = [\n",
        "    {\"statement\": df['statements'][0], \"label\": df['PHQ9_levels'][0]},\n",
        "    {\"statement\": df['statements'][1], \"label\": df['PHQ9_levels'][1]},\n",
        "    {\"statement\": df['statements'][2], \"label\": df['PHQ9_levels'][2]},\n",
        "]\n"
      ],
      "metadata": {
        "id": "fEtL2A6W48aG"
      },
      "execution_count": null,
      "outputs": []
    },
    {
      "cell_type": "code",
      "source": [
        "few_shot_examples[0]"
      ],
      "metadata": {
        "colab": {
          "base_uri": "https://localhost:8080/"
        },
        "id": "YRI1m09P5Gfr",
        "outputId": "d35fc94f-98ee-4415-dd4b-7cc95cc8a9fb"
      },
      "execution_count": null,
      "outputs": [
        {
          "output_type": "execute_result",
          "data": {
            "text/plain": [
              "{'statement': \"I often feel a lack of interest in activities, described as I get as much satisfaction out of things as I used to. satisfaction, and I've been feeling down I feel sad. My sleep quality is I don't sleep as well as I used to., and I often feel fatigued I don't get more tired than usual.. My appetite level is My appetite is no worse than usual., and I frequently feel bad about myself due to fear of failure, described as I feel I have failed more than the average person.. I have trouble making decisions I make decisions about as well as I ever could., feel agitated Fidgetiness/ (অস্থিরতা), and have had suicidal feelings Absent.. I  Disagree that I experienced physical violence, I  Disagree that I experienced sexual violence, I  Agree that I experienced verbal violence, and I Disagree that I experienced emotional violence. I  Agree that my Parents are Strict. I  Agree that I experienced Academic Pressure from my parents, I  Agree that I experienced Marriage Pressure from my parents, and I Disagree that I experienced Career Pressure from my parents,and I Disagree that I experienced Pressure for studying abroad from my parents,  I Disagree that My understanding with my parents is bad.  I Neutral  that my bonding with my siblings is  bad.  I Disagree that there is unstability in my parental relationship. I Disagree that my relationship with my peers is bad.  I Disagree that my teachers are unsupportive. I  Agree that I feel social interference in my life.  I have 5 close friends and I hang out with my friends Often. My interest in others' well-being is I have not lost interest in other people.. I am currently in my 4 year with a CGPA of 3.38, and I Disagree about my academic performance being poor. I Strongly disagree about being unhappy with my choice of subject, and I No about choosing this subject due to career prospects.\",\n",
              " 'label': 'Minimal'}"
            ]
          },
          "metadata": {},
          "execution_count": 7
        }
      ]
    },
    {
      "cell_type": "code",
      "source": [
        "# Create a mapping from labels to integers\n",
        "label_mapping = {label: idx for idx, label in enumerate(df['PHQ9_levels'].unique())}\n",
        "print(f\"Label Mapping: {label_mapping}\")"
      ],
      "metadata": {
        "colab": {
          "base_uri": "https://localhost:8080/"
        },
        "id": "HMiDesrD6uJF",
        "outputId": "a4556da6-f786-4121-bc5c-c87d23920028"
      },
      "execution_count": null,
      "outputs": [
        {
          "output_type": "stream",
          "name": "stdout",
          "text": [
            "Label Mapping: {'Minimal': 0, 'Moderate': 1, 'Mild': 2, 'ModeratelySevere': 3, 'Severe': 4}\n"
          ]
        }
      ]
    },
    {
      "cell_type": "code",
      "source": [
        "def format_few_shot_prompt(examples, new_statement):\n",
        "    prompt = \"\"\n",
        "    for example in examples:\n",
        "        prompt += f\"Statement: {example['statement']}\\nLabel: {example['label']}\\n\\n\"\n",
        "    prompt += f\"Statement: {new_statement}\\nLabel:\"\n",
        "    return prompt"
      ],
      "metadata": {
        "id": "Av2JRgIs47Nc"
      },
      "execution_count": null,
      "outputs": []
    },
    {
      "cell_type": "code",
      "source": [
        "epochs = 30"
      ],
      "metadata": {
        "id": "5DT1tpkR_NhB"
      },
      "execution_count": null,
      "outputs": []
    },
    {
      "cell_type": "code",
      "source": [
        "\n",
        "# Training loop - not traditional fine-tuning but structuring the input prompts\n",
        "def train_few_shot(model, tokenizer, few_shot_examples, new_statements, labels):\n",
        "    model.train()\n",
        "    optimizer = AdamW(model.parameters(), lr=2e-5, eps=1e-8)\n",
        "\n",
        "    losses = []  # To store the loss values for plotting\n",
        "\n",
        "    for epoch in range(epochs):  # Few-shot usually requires very few epochs\n",
        "        total_loss = 0.0\n",
        "        for new_statement, label in zip(new_statements['statements'], new_statements['PHQ9_levels']):\n",
        "            prompt = format_few_shot_prompt(few_shot_examples, new_statement)\n",
        "            inputs = tokenizer.encode(prompt, return_tensors=\"pt\", truncation=True, max_length=1024).to(device)\n",
        "\n",
        "            # Generate outputs\n",
        "            outputs = model(inputs, labels=inputs)\n",
        "\n",
        "            # Calculate loss using the model's logits and the label\n",
        "            logits = outputs.logits\n",
        "            target_label = torch.tensor([label_mapping[label]], dtype=torch.long).to(device)\n",
        "            loss = torch.nn.CrossEntropyLoss()(logits[:, -1, :], target_label)\n",
        "\n",
        "            model.zero_grad()\n",
        "            loss.backward()\n",
        "            optimizer.step()\n",
        "\n",
        "            total_loss += loss.item()\n",
        "\n",
        "        epoch_loss = total_loss / len(new_statements)\n",
        "        losses.append(epoch_loss)\n",
        "\n",
        "        print(f\"Epoch {epoch + 1}, Loss: {epoch_loss}\")\n",
        "\n",
        "    # Plot the loss variation with epochs\n",
        "    plt.figure(figsize=(10, 6))\n",
        "    plt.plot(range(1, epochs + 1), losses, label='Training Loss')\n",
        "    plt.xlabel('Epoch')\n",
        "    plt.ylabel('Loss')\n",
        "    plt.title('Training Loss Variation')\n",
        "    plt.grid(True)\n",
        "    plt.legend()\n",
        "    plt.show()\n",
        "\n",
        "    return losses"
      ],
      "metadata": {
        "id": "sEeJOWQU43Os"
      },
      "execution_count": null,
      "outputs": []
    },
    {
      "cell_type": "code",
      "source": [
        "def test_few_shot(model, tokenizer, few_shot_examples, test_statement):\n",
        "    prompt = format_few_shot_prompt(few_shot_examples, test_statement)\n",
        "    inputs = tokenizer.encode(prompt, return_tensors=\"pt\", truncation=True, max_length=512).to(device)\n",
        "\n",
        "    # Generate with a limit on max new tokens and a specific maximum length\n",
        "    outputs = model.generate(inputs, max_length=1024, num_return_sequences=1, pad_token_id=tokenizer.eos_token_id)\n",
        "    generated_text = tokenizer.decode(outputs[0], skip_special_tokens=True)\n",
        "\n",
        "    # Extract the predicted label\n",
        "    predicted_label = generated_text.split(\"Label:\")[-1].strip().split(\"\\n\")[0].strip()\n",
        "\n",
        "    return predicted_label\n"
      ],
      "metadata": {
        "id": "wHYlXmfy417M"
      },
      "execution_count": null,
      "outputs": []
    },
    {
      "cell_type": "code",
      "source": [
        "# Split data into training and testing\n",
        "new_statements, test_data = train_test_split(df, test_size=0.2, random_state=42)"
      ],
      "metadata": {
        "id": "VcInOsrcBf90"
      },
      "execution_count": null,
      "outputs": []
    },
    {
      "cell_type": "code",
      "source": [
        "# Example usage for training\n",
        "train_losses = train_few_shot(model, tokenizer, few_shot_examples, new_statements, new_statements)"
      ],
      "metadata": {
        "colab": {
          "base_uri": "https://localhost:8080/",
          "height": 1000
        },
        "id": "bsoL24RK40IW",
        "outputId": "a9c533b7-a9f2-4e2f-f8a6-4bf17cbdee86"
      },
      "execution_count": null,
      "outputs": [
        {
          "output_type": "stream",
          "name": "stdout",
          "text": [
            "Epoch 1, Loss: 2.060073173461625\n",
            "Epoch 2, Loss: 1.6335446282934685\n",
            "Epoch 3, Loss: 1.5899131269409106\n",
            "Epoch 4, Loss: 1.5854477774208555\n",
            "Epoch 5, Loss: 1.5565860901171198\n",
            "Epoch 6, Loss: 1.5494975179720383\n",
            "Epoch 7, Loss: 1.5601491022568483\n",
            "Epoch 8, Loss: 1.5385475889421427\n",
            "Epoch 9, Loss: 1.5454548070063958\n",
            "Epoch 10, Loss: 1.5215866072819784\n",
            "Epoch 11, Loss: 1.540695675003987\n",
            "Epoch 12, Loss: 1.5211114714351983\n",
            "Epoch 13, Loss: 1.5373646810364265\n",
            "Epoch 14, Loss: 1.5234585818476403\n",
            "Epoch 15, Loss: 1.516852637896171\n",
            "Epoch 16, Loss: 1.5060231923483884\n",
            "Epoch 17, Loss: 1.5131564934093218\n",
            "Epoch 18, Loss: 1.5117429930430193\n",
            "Epoch 19, Loss: 1.5159976274634783\n",
            "Epoch 20, Loss: 1.5211475078876202\n",
            "Epoch 21, Loss: 1.504549552471592\n",
            "Epoch 22, Loss: 1.5155287300451443\n",
            "Epoch 23, Loss: 1.505304615944624\n",
            "Epoch 24, Loss: 1.5003749137887588\n",
            "Epoch 25, Loss: 1.5037517567666678\n",
            "Epoch 26, Loss: 1.505797465546773\n",
            "Epoch 27, Loss: 1.5064016968871539\n",
            "Epoch 28, Loss: 1.4969010590933836\n",
            "Epoch 29, Loss: 1.5012736463776002\n",
            "Epoch 30, Loss: 1.4951337004223695\n"
          ]
        },
        {
          "output_type": "display_data",
          "data": {
            "text/plain": [
              "<Figure size 1000x600 with 1 Axes>"
            ],
            "image/png": "[encoded data removed]"
          },
          "metadata": {}
        }
      ]
    },
    {
      "cell_type": "code",
      "source": [
        "# Example usage for evaluation\n",
        "predicted_labels = []\n",
        "true_labels = []"
      ],
      "metadata": {
        "id": "307H3EC1CmsJ"
      },
      "execution_count": null,
      "outputs": []
    },
    {
      "cell_type": "code",
      "source": [
        "predicted_labels"
      ],
      "metadata": {
        "colab": {
          "base_uri": "https://localhost:8080/"
        },
        "id": "kRDTafskFKoq",
        "outputId": "0f4285e1-d1b5-4eee-a145-5a3e32d30683"
      },
      "execution_count": null,
      "outputs": [
        {
          "output_type": "execute_result",
          "data": {
            "text/plain": [
              "[]"
            ]
          },
          "metadata": {},
          "execution_count": 16
        }
      ]
    },
    {
      "cell_type": "code",
      "source": [
        "for index, row in test_data.iterrows():\n",
        "    test_statement = row['statements']\n",
        "    true_label = row['PHQ9_levels']\n",
        "\n",
        "    predicted_label = test_few_shot(model, tokenizer, few_shot_examples, test_statement)\n",
        "    predicted_labels.append(predicted_label)\n",
        "    true_labels.append(true_label)"
      ],
      "metadata": {
        "id": "jTi5F_hlBojm"
      },
      "execution_count": null,
      "outputs": []
    },
    {
      "cell_type": "code",
      "source": [
        "# Print classification report\n",
        "report = classification_report(true_labels, predicted_labels, zero_division=0)\n",
        "print(report)"
      ],
      "metadata": {
        "colab": {
          "base_uri": "https://localhost:8080/"
        },
        "id": "QyK32gCSBqqD",
        "outputId": "5a5e0660-9440-4b39-cf62-0d87f28e856a"
      },
      "execution_count": null,
      "outputs": [
        {
          "output_type": "stream",
          "name": "stdout",
          "text": [
            "                  precision    recall  f1-score   support\n",
            "\n",
            "            Mild       0.00      0.00      0.00        29\n",
            "         Minimal       0.29      1.00      0.45        30\n",
            "        Moderate       0.00      0.00      0.00        28\n",
            "ModeratelySevere       0.00      0.00      0.00        11\n",
            "          Severe       0.00      0.00      0.00         6\n",
            "\n",
            "        accuracy                           0.29       104\n",
            "       macro avg       0.06      0.20      0.09       104\n",
            "    weighted avg       0.08      0.29      0.13       104\n",
            "\n"
          ]
        }
      ]
    },
    {
      "cell_type": "code",
      "source": [
        "from sklearn.metrics import accuracy_score\n",
        "# Calculate accuracy separately\n",
        "accuracy = accuracy_score(true_labels, predicted_labels)\n",
        "print(f\"Accuracy: {accuracy}\")"
      ],
      "metadata": {
        "colab": {
          "base_uri": "https://localhost:8080/"
        },
        "id": "hOxwI_--BrTn",
        "outputId": "1e6bf7d7-d2c3-4b8d-feba-e3b3e7dd69bd"
      },
      "execution_count": null,
      "outputs": [
        {
          "output_type": "stream",
          "name": "stdout",
          "text": [
            "Accuracy: 0.28846153846153844\n"
          ]
        }
      ]
    },
    {
      "cell_type": "code",
      "source": [
        "# # Function to evaluate model\n",
        "# def evaluate_model(model, tokenizer, few_shot_examples, test_data):\n",
        "#     predicted_labels = []\n",
        "#     true_labels = []\n",
        "\n",
        "#     for test_statement, true_label in zip(test_data['statements'], test_data['PHQ9_levels']):\n",
        "#         predicted_label = test_few_shot(model, tokenizer, few_shot_examples, test_statement)\n",
        "#         predicted_labels.append(predicted_label)\n",
        "#         true_labels.append(true_label)\n",
        "\n",
        "#     # Print classification report\n",
        "#     report = classification_report(true_labels, predicted_labels, zero_division=0)\n",
        "#     print(report)\n",
        "\n",
        "#     # Calculate accuracy separately\n",
        "#     accuracy = accuracy_score(true_labels, predicted_labels)\n",
        "\n",
        "#     return accuracy"
      ],
      "metadata": {
        "id": "DGJK0a3tA2R8"
      },
      "execution_count": null,
      "outputs": []
    },
    {
      "cell_type": "code",
      "source": [
        "# # Example usage for evaluation\n",
        "# test_data = df.iloc[6:10]  # Adjust this based on how you split your data for testing\n",
        "# accuracy = evaluate_model(model, tokenizer, few_shot_examples, test_data)\n",
        "\n",
        "# print(f\"Accuracy: {accuracy}\")\n"
      ],
      "metadata": {
        "id": "KJ2KuVHx7yIH"
      },
      "execution_count": null,
      "outputs": []
    },
    {
      "cell_type": "code",
      "source": [],
      "metadata": {
        "id": "86pKe9xG_hP3"
      },
      "execution_count": null,
      "outputs": []
    }
  ]
}